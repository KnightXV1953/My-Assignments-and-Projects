{
 "cells": [
  {
   "cell_type": "code",
   "execution_count": 38,
   "metadata": {},
   "outputs": [],
   "source": [
    "import pandas as pd\n",
    "import numpy as np\n",
    "import matplotlib.pyplot as plt\n",
    "import nltk\n",
    "from nltk.tokenize import word_tokenize\n",
    "from nltk.corpus import stopwords\n",
    "from collections import Counter\n",
    "from annot import combined_dic\n"
   ]
  },
  {
   "cell_type": "markdown",
   "metadata": {},
   "source": [
    "### Reading Dataframe"
   ]
  },
  {
   "cell_type": "code",
   "execution_count": 39,
   "metadata": {},
   "outputs": [],
   "source": [
    "sentences = []\n",
    "labels = []\n",
    "files = []\n",
    "\n",
    "for file_name, contents in combined_dic.items():\n",
    "    for sentence, label in contents.items():\n",
    "        sentences.append(sentence)\n",
    "        labels.append(label.lower())\n",
    "        files.append(file_name)\n",
    "\n",
    "# Creating DataFrame\n",
    "df = pd.DataFrame({'Text': sentences, 'Label': labels, 'File': files})"
   ]
  },
  {
   "cell_type": "code",
   "execution_count": 40,
   "metadata": {},
   "outputs": [
    {
     "data": {
      "text/html": [
       "<div>\n",
       "<style scoped>\n",
       "    .dataframe tbody tr th:only-of-type {\n",
       "        vertical-align: middle;\n",
       "    }\n",
       "\n",
       "    .dataframe tbody tr th {\n",
       "        vertical-align: top;\n",
       "    }\n",
       "\n",
       "    .dataframe thead th {\n",
       "        text-align: right;\n",
       "    }\n",
       "</style>\n",
       "<table border=\"1\" class=\"dataframe\">\n",
       "  <thead>\n",
       "    <tr style=\"text-align: right;\">\n",
       "      <th></th>\n",
       "      <th>Text</th>\n",
       "      <th>Label</th>\n",
       "      <th>File</th>\n",
       "    </tr>\n",
       "  </thead>\n",
       "  <tbody>\n",
       "    <tr>\n",
       "      <th>0</th>\n",
       "      <td>Aj subah mein 7:30 pe uthi aur uth ker apne ka...</td>\n",
       "      <td>neutral</td>\n",
       "      <td>165_Day8.txt</td>\n",
       "    </tr>\n",
       "    <tr>\n",
       "      <th>1</th>\n",
       "      <td>Uske baad meine apne liye nashta banaya aur ty...</td>\n",
       "      <td>neutral</td>\n",
       "      <td>165_Day8.txt</td>\n",
       "    </tr>\n",
       "    <tr>\n",
       "      <th>2</th>\n",
       "      <td>9 bajay office ke liye niklay sab.</td>\n",
       "      <td>neutral</td>\n",
       "      <td>165_Day8.txt</td>\n",
       "    </tr>\n",
       "    <tr>\n",
       "      <th>3</th>\n",
       "      <td>Aj office mein sabki pictures khichi aur group...</td>\n",
       "      <td>positive</td>\n",
       "      <td>165_Day8.txt</td>\n",
       "    </tr>\n",
       "    <tr>\n",
       "      <th>4</th>\n",
       "      <td>Shaam ko sab bahir khana khanay ke liye tyar hue.</td>\n",
       "      <td>neutral</td>\n",
       "      <td>165_Day8.txt</td>\n",
       "    </tr>\n",
       "    <tr>\n",
       "      <th>...</th>\n",
       "      <td>...</td>\n",
       "      <td>...</td>\n",
       "      <td>...</td>\n",
       "    </tr>\n",
       "    <tr>\n",
       "      <th>578</th>\n",
       "      <td>Phir ghar walon ke saath baith kar chai peeti ...</td>\n",
       "      <td>positive</td>\n",
       "      <td>402_Day10.txt</td>\n",
       "    </tr>\n",
       "    <tr>\n",
       "      <th>579</th>\n",
       "      <td>Thodi der gaming ki lekin phir bhi bore ho gaya</td>\n",
       "      <td>negative</td>\n",
       "      <td>402_Day10.txt</td>\n",
       "    </tr>\n",
       "    <tr>\n",
       "      <th>580</th>\n",
       "      <td>Raat ko dinner ke baad doston se call pe baat ...</td>\n",
       "      <td>positive</td>\n",
       "      <td>402_Day10.txt</td>\n",
       "    </tr>\n",
       "    <tr>\n",
       "      <th>581</th>\n",
       "      <td>Phir YouTube par kuch videos dekhi aur thoda r...</td>\n",
       "      <td>positive</td>\n",
       "      <td>402_Day10.txt</td>\n",
       "    </tr>\n",
       "    <tr>\n",
       "      <th>582</th>\n",
       "      <td>Jab neend ayi toh mobile side pe rakha aur so ...</td>\n",
       "      <td>neutral</td>\n",
       "      <td>402_Day10.txt</td>\n",
       "    </tr>\n",
       "  </tbody>\n",
       "</table>\n",
       "<p>583 rows × 3 columns</p>\n",
       "</div>"
      ],
      "text/plain": [
       "                                                  Text     Label  \\\n",
       "0    Aj subah mein 7:30 pe uthi aur uth ker apne ka...   neutral   \n",
       "1    Uske baad meine apne liye nashta banaya aur ty...   neutral   \n",
       "2                   9 bajay office ke liye niklay sab.   neutral   \n",
       "3    Aj office mein sabki pictures khichi aur group...  positive   \n",
       "4    Shaam ko sab bahir khana khanay ke liye tyar hue.   neutral   \n",
       "..                                                 ...       ...   \n",
       "578  Phir ghar walon ke saath baith kar chai peeti ...  positive   \n",
       "579    Thodi der gaming ki lekin phir bhi bore ho gaya  negative   \n",
       "580  Raat ko dinner ke baad doston se call pe baat ...  positive   \n",
       "581  Phir YouTube par kuch videos dekhi aur thoda r...  positive   \n",
       "582  Jab neend ayi toh mobile side pe rakha aur so ...   neutral   \n",
       "\n",
       "              File  \n",
       "0     165_Day8.txt  \n",
       "1     165_Day8.txt  \n",
       "2     165_Day8.txt  \n",
       "3     165_Day8.txt  \n",
       "4     165_Day8.txt  \n",
       "..             ...  \n",
       "578  402_Day10.txt  \n",
       "579  402_Day10.txt  \n",
       "580  402_Day10.txt  \n",
       "581  402_Day10.txt  \n",
       "582  402_Day10.txt  \n",
       "\n",
       "[583 rows x 3 columns]"
      ]
     },
     "execution_count": 40,
     "metadata": {},
     "output_type": "execute_result"
    }
   ],
   "source": [
    "df"
   ]
  },
  {
   "cell_type": "markdown",
   "metadata": {},
   "source": [
    "### Test Train Split"
   ]
  },
  {
   "cell_type": "code",
   "execution_count": 34,
   "metadata": {},
   "outputs": [
    {
     "name": "stdout",
     "output_type": "stream",
     "text": [
      "Training Data: 466 samples\n",
      "Testing Data: 117 samples\n"
     ]
    }
   ],
   "source": [
    "# Define split ratio\n",
    "train_ratio = 0.8  # 80% training, 20% testing\n",
    "\n",
    "total_samples = len(df) # total samples\n",
    "\n",
    "train_size = int(train_ratio * total_samples)\n",
    "\n",
    "df = df.sample(frac=1, random_state=42).reset_index(drop=True)\n",
    "\n",
    "train_data = df.iloc[:train_size] \n",
    "test_data = df.iloc[train_size:]   \n",
    "\n",
    "# Display sizes\n",
    "print(f\"Training Data: {len(train_data)} samples\")\n",
    "print(f\"Testing Data: {len(test_data)} samples\")\n"
   ]
  },
  {
   "cell_type": "markdown",
   "metadata": {},
   "source": [
    "### Naive Bayes Classifier"
   ]
  },
  {
   "cell_type": "code",
   "execution_count": null,
   "metadata": {},
   "outputs": [],
   "source": [
    "class NaiveBayesTextClassifier:\n",
    "\n",
    "    def __init__(self):\n",
    "        self.positive_tokens = []\n",
    "        self.negative_tokens = []\n",
    "        self.neutral_tokens = []\n",
    "        self.negvals = np.array([])\n",
    "        self.posvals = np.array([])\n",
    "        self.negcounts = np.array([])\n",
    "        self.poscounts = np.array([])\n",
    "        self.neutcounts = np.array([])\n",
    "        # define list of stopwords to remove so that they dont affect the model\n",
    "        self.stop_words = [ \n",
    "        \"hai\", \"mai\", 'me' , \"tum\", \"kaal\", \"parsoun\", \"aj\", \"aaj\", \"kal\", \"aur\", \"ko\", \"ki\", \"ke\", \"ka\", \n",
    "        \"se\", \"par\", \"mein\", \"bhi\", \"to\", \"wo\", \"kuch\", \"yeh\", \"vo\", \"ho\", \"gaya\", \"gayi\", \"kya\", \n",
    "        \"jis\", \"jise\", \"jo\", \"ab\", \"abhi\", \"phir\", \"agar\", \"lekin\", \"kyun\", \"nahi\", \"sab\", \"zyada\", \n",
    "        \"bhot\", \"haii\", \"the\", \"tha\", \"thi\", \"hun\", \"rha\", \"rhi\", \"rhe\", \"kar\", \"liye\", \"liye\", \"kiya\", \n",
    "        \"koi\", \"kis\", \"is\", \"us\", \"un\", \"inka\", \"unka\", \"unke\", \"inki\", \"unki\", \"ky\", \"karna\", \"kerna\"\n",
    "]\n",
    "\n",
    "    def preprocess_text(self , text):\n",
    "        text = text.lower()  # Convert to lowercase \n",
    "        text = text.replace(\",\" , '')\n",
    "        text = text.replace(\"!\" , '')\n",
    "        text = text.replace(\".\" , '')\n",
    "        words = word_tokenize(text)\n",
    "        filtered_words = [word for word in words if word not in self.stop_words]  # Remove stop words\n",
    "\n",
    "        return filtered_words\n",
    "    \n",
    "\n",
    "    def train(self , X , Y):\n",
    "        class_counts = {'Positive': 0 , 'Negative' : 0 , 'Neutral' : 0 }\n",
    "        for i in range(len(X)):\n",
    "            words = self.preprocess_text(X[i])\n",
    "            if Y[i] == 'positive':\n",
    "                for word in words:\n",
    "                    self.positive_tokens.append(word)\n",
    "                class_counts['Positive'] += 1\n",
    "            elif Y[i] == 'negative':\n",
    "                for word in words:\n",
    "                    self.negative_tokens.append(word)\n",
    "                class_counts['Negative'] += 1\n",
    "            else:\n",
    "                for word in words:\n",
    "                    self.neutral_tokens.append(word)\n",
    "                class_counts['Neutral'] += 1\n",
    "                \n",
    "        ### calculate prior probabilities of each class \n",
    "        total = 0\n",
    "        for count in class_counts.values():\n",
    "            total += count\n",
    "        \n",
    "        self.eachclassprob = {}\n",
    "        for classs , count in class_counts.items():\n",
    "            self.eachclassprob[classs] = count / total\n",
    "\n",
    "        ### building vocabulary of words \n",
    "        vocab = set()\n",
    "        for word in self.positive_tokens: # adding positive tokens to vocabulary\n",
    "            vocab.add(word)\n",
    "        for word in self.negative_tokens: # adding negative tokens to vocabulary\n",
    "            vocab.add(word)\n",
    "        for word in self.neutral_tokens: # adding neutral tokens to vocabulary\n",
    "            vocab.add(word)\n",
    "        vocab_size = len(vocab) # size of vocabulary\n",
    "        \n",
    "        positive_word_count = Counter(self.positive_tokens) # counts how many times each word appears in positive samples.\n",
    "        self.positive_dict = {}\n",
    "        for word , count in positive_word_count.items():\n",
    "            self.positive_dict[word] = (count + 1 ) / ( len(self.positive_tokens) + vocab_size) # laplace smoothning\n",
    "            \n",
    "        negatice_word_count = Counter(self.negative_tokens) # counts how many times each word appears in negative samples.\n",
    "        self.negative_dict = {}\n",
    "        for word , count in negatice_word_count.items():\n",
    "            self.negative_dict[word] = (count + 1 ) / ( len(self.negative_tokens) + vocab_size)\n",
    "            \n",
    "        neutral_word_count = Counter(self.neutral_tokens) # counts how many times each word appears in positive samples.\n",
    "        self.neutral_dict = {}\n",
    "        for word , count in neutral_word_count.items():\n",
    "            self.neutral_dict[word] = (count + 1 ) / ( len(self.neutral_tokens) + vocab_size )\n",
    "\n",
    "    def test(self , X):\n",
    "\n",
    "        predictions = []\n",
    "        \n",
    "        all_words = set()\n",
    "        \n",
    "        all_words = set()\n",
    "        for word in self.positive_dict:\n",
    "            all_words.add(word)\n",
    "        for word in self.negative_dict:\n",
    "            all_words.add(word)\n",
    "        for word in self.neutral_dict:\n",
    "            all_words.add(word)\n",
    "        vocab_size = len(all_words)\n",
    "            \n",
    "        for text in X:\n",
    "            words = self.preprocess_text(text)\n",
    "            \n",
    "            log_prob_positive = np.log(self.eachclassprob['Positive'])\n",
    "            log_prob_negative = np.log(self.eachclassprob['Negative'])\n",
    "            log_prob_neutral = np.log(self.eachclassprob['Neutral'])\n",
    "            \n",
    "            for word in words:\n",
    "                if word in self.positive_dict: #if word is present use its prior probability\n",
    "                    log_prob_positive += np.log(self.positive_dict[word])\n",
    "                else:\n",
    "                    log_prob_positive += np.log(1 / (len(self.positive_tokens) + vocab_size)) # other wise use laplace smoothing\n",
    "            \n",
    "                if word in self.negative_dict:\n",
    "                    log_prob_negative += np.log(self.negative_dict[word])\n",
    "                else:\n",
    "                    log_prob_negative += np.log(1 / (len(self.negative_tokens) + vocab_size))\n",
    "                \n",
    "                if word in self.neutral_dict:\n",
    "                    log_prob_neutral += np.log(self.neutral_dict[word])\n",
    "                else:\n",
    "                    log_prob_neutral += np.log(1 / (len(self.neutral_tokens) + vocab_size))\n",
    "                \n",
    "            \n",
    "            \n",
    "            # store probabilies in dictionary\n",
    "            probabilities = {\n",
    "                'Positive': log_prob_positive,\n",
    "                'Negative': log_prob_negative,\n",
    "                'Neutral': log_prob_neutral\n",
    "            }\n",
    "\n",
    "            max_class = None\n",
    "            max_prob = -float('inf')\n",
    "            for classs , prob in probabilities.items():\n",
    "                if prob > max_prob:\n",
    "                    max_prob = prob\n",
    "                    max_class = classs\n",
    "            predictions.append(max_class)\n",
    "        return predictions\n",
    "\n"
   ]
  },
  {
   "cell_type": "markdown",
   "metadata": {},
   "source": [
    "### Training"
   ]
  },
  {
   "cell_type": "code",
   "execution_count": 42,
   "metadata": {},
   "outputs": [],
   "source": [
    "classifier = NaiveBayesTextClassifier()\n",
    "\n",
    "classifier.train(train_data[\"Text\"], train_data[\"Label\"])\n"
   ]
  },
  {
   "cell_type": "markdown",
   "metadata": {},
   "source": [
    "### Testing"
   ]
  },
  {
   "cell_type": "code",
   "execution_count": 43,
   "metadata": {},
   "outputs": [
    {
     "name": "stdout",
     "output_type": "stream",
     "text": [
      "Model Accuracy: 50.427350427350426%\n"
     ]
    }
   ],
   "source": [
    "# Predict labels for the test set\n",
    "predictions = classifier.test(test_data[\"Text\"])\n",
    "\n",
    "# Store actual labels\n",
    "actual_labels = test_data[\"Label\"].tolist()\n",
    "\n",
    "# Compare predictions with actual labels\n",
    "correct = sum([1 for i in range(len(predictions)) if predictions[i] == actual_labels[i]])\n",
    "accuracy = correct / len(predictions) * 100\n",
    "\n",
    "print(f\"Model Accuracy: {accuracy }%\")\n"
   ]
  },
  {
   "cell_type": "markdown",
   "metadata": {},
   "source": [
    "### Sentiment Trends"
   ]
  },
  {
   "cell_type": "code",
   "execution_count": null,
   "metadata": {},
   "outputs": [
    {
     "name": "stdout",
     "output_type": "stream",
     "text": [
      "Skipping unexpected filename format: 225day2.txt\n",
      "Skipping unexpected filename format: 380_day12.txt\n"
     ]
    }
   ],
   "source": [
    "data = []\n",
    "for file, entries in combined_dic.items():\n",
    "    parts = file.split(\"_\")\n",
    "    \n",
    "    if len(parts) > 1 and \"Day\" in parts[1]:  \n",
    "        day_part = parts[1].replace(\"Day\", \"\").split(\".\")[0]  # Remove \".txt\" from file\n",
    "\n",
    "        try:\n",
    "            date = int(day_part)  # Convert to integer\n",
    "            for text, label in entries.items():\n",
    "                data.append([date, text, label.lower()])\n",
    "        except ValueError:\n",
    "            print(f\"Skipping invalid filename: {file}\")  \n",
    "    else:\n",
    "        print(f\"Skipping unexpected filename format: {file}\")  \n",
    "\n",
    "df = pd.DataFrame(data, columns=[\"Day\", \"Text\", \"Sentiment\"])\n",
    "df = df.sort_values(by=\"Day\")  \n"
   ]
  },
  {
   "cell_type": "code",
   "execution_count": null,
   "metadata": {},
   "outputs": [],
   "source": [
    "# Count occurrences of each sentiment per day\n",
    "sentiment_counts = df.groupby(\"Day\")[\"Sentiment\"].value_counts().unstack().fillna(0)\n",
    "\n",
    "# Convert counts to percentages\n",
    "sentiment_percentages = sentiment_counts.div(sentiment_counts.sum(axis=1), axis=0) * 100\n"
   ]
  },
  {
   "cell_type": "code",
   "execution_count": null,
   "metadata": {},
   "outputs": [
    {
     "data": {
      "image/png": "[encoded data removed]",
      "text/plain": [
       "<Figure size 1000x500 with 1 Axes>"
      ]
     },
     "metadata": {},
     "output_type": "display_data"
    }
   ],
   "source": [
    "plt.figure(figsize=(10, 5))\n",
    "for sentiment in sentiment_percentages.columns:\n",
    "    plt.plot(sentiment_percentages.index, sentiment_percentages[sentiment], label=sentiment)\n",
    "\n",
    "plt.xlabel(\"Day\")\n",
    "plt.ylabel(\"Percentage (%)\")\n",
    "plt.title(\"Sentiment Trends Over Time\")\n",
    "plt.legend()\n",
    "plt.grid()\n",
    "plt.show()\n"
   ]
  },
  {
   "cell_type": "code",
   "execution_count": null,
   "metadata": {},
   "outputs": [],
   "source": []
  },
  {
   "cell_type": "code",
   "execution_count": null,
   "metadata": {},
   "outputs": [],
   "source": []
  }
 ],
 "metadata": {
  "kernelspec": {
   "display_name": "Python 3",
   "language": "python",
   "name": "python3"
  },
  "language_info": {
   "codemirror_mode": {
    "name": "ipython",
    "version": 3
   },
   "file_extension": ".py",
   "mimetype": "text/x-python",
   "name": "python",
   "nbconvert_exporter": "python",
   "pygments_lexer": "ipython3",
   "version": "3.11.9"
  }
 },
 "nbformat": 4,
 "nbformat_minor": 2
}
