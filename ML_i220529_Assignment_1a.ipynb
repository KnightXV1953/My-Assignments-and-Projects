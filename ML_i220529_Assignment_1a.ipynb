{
 "cells": [
  {
   "cell_type": "markdown",
   "metadata": {},
   "source": [
    "# Assignment No 1a\n",
    "###### *Hassan Raza*\n",
    "----\n",
    "## Goal\n",
    "\n",
    "Your goal in this assigment is to implement and refresh the concepts learned during the previous two to three weeks using the ** Pure Python language** . This will not only solidify your Python understanding but also give you strong footing for further advancement :)\n",
    "\n",
    "**Note** Please note that you are **not allowed to use any other library (numpy and scipy) whatsoever for this part**. All the tools required to complete the tasks have already been discussed in the Lab. In case you need any help you can post on google classroom.\n",
    "\n",
    "## Submission Instructions\n",
    "You are required to submit the original notebook file on the google classroom (with .ipynb extension), with complete set of outputs. Students failing to do so will get zero marks. \n",
    "\n",
    "*Please read each step carefully and understand it fully before proceeding with code writing*\n",
    "\n",
    "## Plagiarism\n",
    "Any form of plagiarism will not be tolerated and result in 0 marks. No relaxation whatsoever, so avoid copying and start enjoying :)"
   ]
  },
  {
   "cell_type": "markdown",
   "metadata": {},
   "source": [
    "#### Hello IPython\n",
    "----------------\n",
    "The IPython notebook is an application to build interactive computational notebooks. You'll be using them to complete labs and homework. Once you've set up Python, please download this  ipython notebook and open it with IPython by typing\n",
    "\n",
    "jupyter notebook --pylab=inline Assignment\\#1\n",
    "\n",
    "For the rest of the assignment, use your local copy of this page, running on Jupyter.\n",
    "\n",
    "Notebooks are composed of many \"cells\", which can contain text (like this one), or code (like the one below). Double click on the cell below, and evaluate it by clicking the \"play\" button above, or by hitting shift + enter.\n",
    "\n",
    "**So Lets Start**"
   ]
  },
  {
   "cell_type": "code",
   "execution_count": null,
   "metadata": {},
   "outputs": [],
   "source": []
  },
  {
   "cell_type": "code",
   "execution_count": 8,
   "metadata": {
    "run_control": {
     "breakpoint": false
    }
   },
   "outputs": [
    {
     "name": "stdout",
     "output_type": "stream",
     "text": [
      "Numpy version:        2.1.1 (need at least 1.7.1)\n",
      "SciPy version:        1.14.1 (need at least 0.12.0)\n",
      "Pandas version:       2.2.2 (need at least 0.11.0)\n",
      "Mapltolib version:    3.9.2 (need at least 1.2.1)\n",
      "Scikit-Learn version: 1.5.1 (need at least 0.13.1)\n",
      "requests version:     2.32.3 (need at least 1.2.3)\n",
      "BeautifulSoup version:4.12.3 (need at least 4.0)\n",
      "Seaborn version:      0.13.2 (need at least 0.3.1)\n"
     ]
    }
   ],
   "source": [
    "#Run this notebook to check for the required packages for this course.\n",
    "\n",
    "\n",
    "\n",
    "# Numpy is a library for working with Arrays\n",
    "import numpy as np\n",
    "print (\"Numpy version:        {} (need at least 1.7.1)\".format(np.__version__))\n",
    "\n",
    "# SciPy implements many different numerical algorithms\n",
    "import scipy as sp\n",
    "print (\"SciPy version:        {} (need at least 0.12.0)\".format(sp.__version__))\n",
    "\n",
    "# Pandas makes working with data tables easier\n",
    "import pandas as pd\n",
    "print (\"Pandas version:       {} (need at least 0.11.0)\".format(pd.__version__))\n",
    "\n",
    "# Module for plotting\n",
    "import matplotlib\n",
    "print (\"Mapltolib version:    {} (need at least 1.2.1)\".format(matplotlib.__version__))\n",
    "\n",
    "# SciKit Learn implements several Machine Learning algorithms\n",
    "import sklearn\n",
    "print (\"Scikit-Learn version: {} (need at least 0.13.1)\".format(sklearn.__version__))\n",
    "\n",
    "# Requests is a library for getting data from the Web\n",
    "import requests\n",
    "print (\"requests version:     {} (need at least 1.2.3)\".format(requests.__version__))\n",
    "\n",
    "#BeautifulSoup is a library to parse HTML and XML documents\n",
    "import bs4\n",
    "print (\"BeautifulSoup version:{} (need at least 4.0)\".format(bs4.__version__))\n",
    "\n",
    "\n",
    "#Seaborn is a nice library for visualizations\n",
    "import seaborn\n",
    "print (\"Seaborn version:      {} (need at least 0.3.1)\".format(seaborn.__version__))\n"
   ]
  },
  {
   "cell_type": "code",
   "execution_count": 9,
   "metadata": {
    "run_control": {
     "breakpoint": false
    }
   },
   "outputs": [
    {
     "name": "stderr",
     "output_type": "stream",
     "text": [
      "'wget' is not recognized as an internal or external command,\n",
      "operable program or batch file.\n"
     ]
    }
   ],
   "source": [
    "#Download the IRIS dataset\n",
    "#\"!\" means run the bash (shell) command, if you are unable to download the data, go \n",
    "# to given link and manually download the data and copy it to your current assignment folder...\n",
    "!wget http://archive.ics.uci.edu/ml/machine-learning-databases/iris/iris.data"
   ]
  },
  {
   "cell_type": "code",
   "execution_count": 36,
   "metadata": {
    "run_control": {
     "breakpoint": false
    }
   },
   "outputs": [],
   "source": [
    "#import pandas and name this namespace as pd\n",
    "import pandas as pd"
   ]
  },
  {
   "cell_type": "code",
   "execution_count": 37,
   "metadata": {
    "run_control": {
     "breakpoint": false
    }
   },
   "outputs": [
    {
     "name": "stdout",
     "output_type": "stream",
     "text": [
      "               Id  SepalLengthCm  SepalWidthCm  PetalLengthCm  PetalWidthCm\n",
      "count  150.000000     150.000000    150.000000     150.000000    150.000000\n",
      "mean    75.500000       5.843333      3.054000       3.758667      1.198667\n",
      "std     43.445368       0.828066      0.433594       1.764420      0.763161\n",
      "min      1.000000       4.300000      2.000000       1.000000      0.100000\n",
      "25%     38.250000       5.100000      2.800000       1.600000      0.300000\n",
      "50%     75.500000       5.800000      3.000000       4.350000      1.300000\n",
      "75%    112.750000       6.400000      3.300000       5.100000      1.800000\n",
      "max    150.000000       7.900000      4.400000       6.900000      2.500000\n"
     ]
    }
   ],
   "source": [
    "#Load data and name the columns\n",
    "data=pd.read_csv('iris.csv')\n",
    "print (data.describe())\n"
   ]
  },
  {
   "cell_type": "code",
   "execution_count": 38,
   "metadata": {
    "run_control": {
     "breakpoint": false
    }
   },
   "outputs": [
    {
     "name": "stdout",
     "output_type": "stream",
     "text": [
      "PetalLength= [1.4, 1.4, 1.3, 1.5, 1.4, 1.7, 1.4, 1.5, 1.4, 1.5, 1.5, 1.6, 1.4, 1.1, 1.2, 1.5, 1.3, 1.4, 1.7, 1.5, 1.7, 1.5, 1.0, 1.7, 1.9, 1.6, 1.6, 1.5, 1.4, 1.6, 1.6, 1.5, 1.5, 1.4, 1.5, 1.2, 1.3, 1.5, 1.3, 1.5, 1.3, 1.3, 1.3, 1.6, 1.9, 1.4, 1.6, 1.4, 1.5, 1.4, 4.7, 4.5, 4.9, 4.0, 4.6, 4.5, 4.7, 3.3, 4.6, 3.9, 3.5, 4.2, 4.0, 4.7, 3.6, 4.4, 4.5, 4.1, 4.5, 3.9, 4.8, 4.0, 4.9, 4.7, 4.3, 4.4, 4.8, 5.0, 4.5, 3.5, 3.8, 3.7, 3.9, 5.1, 4.5, 4.5, 4.7, 4.4, 4.1, 4.0, 4.4, 4.6, 4.0, 3.3, 4.2, 4.2, 4.2, 4.3, 3.0, 4.1, 6.0, 5.1, 5.9, 5.6, 5.8, 6.6, 4.5, 6.3, 5.8, 6.1, 5.1, 5.3, 5.5, 5.0, 5.1, 5.3, 5.5, 6.7, 6.9, 5.0, 5.7, 4.9, 6.7, 4.9, 5.7, 6.0, 4.8, 4.9, 5.6, 5.8, 6.1, 6.4, 5.6, 5.1, 5.6, 6.1, 5.6, 5.5, 4.8, 5.4, 5.6, 5.1, 5.1, 5.9, 5.7, 5.2, 5.0, 5.2, 5.4, 5.1]\n",
      "PetalWidth= [0.2, 0.2, 0.2, 0.2, 0.2, 0.4, 0.3, 0.2, 0.2, 0.1, 0.2, 0.2, 0.1, 0.1, 0.2, 0.4, 0.4, 0.3, 0.3, 0.3, 0.2, 0.4, 0.2, 0.5, 0.2, 0.2, 0.4, 0.2, 0.2, 0.2, 0.2, 0.4, 0.1, 0.2, 0.1, 0.2, 0.2, 0.1, 0.2, 0.2, 0.3, 0.3, 0.2, 0.6, 0.4, 0.3, 0.2, 0.2, 0.2, 0.2, 1.4, 1.5, 1.5, 1.3, 1.5, 1.3, 1.6, 1.0, 1.3, 1.4, 1.0, 1.5, 1.0, 1.4, 1.3, 1.4, 1.5, 1.0, 1.5, 1.1, 1.8, 1.3, 1.5, 1.2, 1.3, 1.4, 1.4, 1.7, 1.5, 1.0, 1.1, 1.0, 1.2, 1.6, 1.5, 1.6, 1.5, 1.3, 1.3, 1.3, 1.2, 1.4, 1.2, 1.0, 1.3, 1.2, 1.3, 1.3, 1.1, 1.3, 2.5, 1.9, 2.1, 1.8, 2.2, 2.1, 1.7, 1.8, 1.8, 2.5, 2.0, 1.9, 2.1, 2.0, 2.4, 2.3, 1.8, 2.2, 2.3, 1.5, 2.3, 2.0, 2.0, 1.8, 2.1, 1.8, 1.8, 1.8, 2.1, 1.6, 1.9, 2.0, 2.2, 1.5, 1.4, 2.3, 2.4, 1.8, 1.8, 2.1, 2.4, 2.3, 1.9, 2.3, 2.5, 2.3, 1.9, 2.0, 2.3, 1.8]\n"
     ]
    }
   ],
   "source": [
    "#Code for generating data....\n",
    "datalist=[] #create an empty list\n",
    "# data list is a list of two elements, where index=0 contains data corresponding to petal \n",
    "# length and index=1 contains data corresponding to petal width\n",
    "datalist.append(list(data['PetalLengthCm'].dropna()))\n",
    "datalist.append(list(data['PetalWidthCm'].dropna()))\n",
    "\n",
    "print (\"PetalLength=\", datalist[0])\n",
    "print (\"PetalWidth=\", datalist[1])\n",
    "\n",
    "#This and above code are both same...\n",
    "# datalist=[0]*2#create a list of 2 elements\n",
    "# datalist[0]=(list(data['PetalLength'].dropna()))\n",
    "# datalist[1]=(list(data['PetalWidth'].dropna()))\n",
    "#data list is a list of two elements, where index=0 contains data corresponding to petal \n",
    "# length and index=1 contains data corresponding to petal width\n",
    "# print(\"PetalLength=\", datalist[0])\n",
    "# print(\"PetalWidth=\", datalist[1])"
   ]
  },
  {
   "cell_type": "markdown",
   "metadata": {},
   "source": [
    "*In all the tasks given below use the list variable `datalist` (defined above) to answer all the questions.*\n",
    "\n",
    "#### Task1\n",
    "----------------\n",
    "Write code to find the mean and variance of the both the attributes vector (petal length and petal Width) "
   ]
  },
  {
   "cell_type": "code",
   "execution_count": 50,
   "metadata": {
    "run_control": {
     "breakpoint": false
    }
   },
   "outputs": [
    {
     "name": "stdout",
     "output_type": "stream",
     "text": [
      "The mean of petal length is 3.7586666666666693\n",
      "The Variance of petal Length is 3.0924248888888854\n",
      "The mean of petal Width is 1.1986666666666672\n",
      "The Variance of petal Width is 0.5785315555555559\n"
     ]
    }
   ],
   "source": [
    "#Write your code here\n",
    "\n",
    "def calculate_mean(data):\n",
    "    return sum(data)/len(data)\n",
    "\n",
    "def calculate_variance(data):\n",
    "    temp_mean = calculate_mean(data)\n",
    "    temp_list = []\n",
    "    for i in data:\n",
    "        temp_list.append(pow((i - temp_mean),2))\n",
    "    return sum(temp_list)/len(temp_list)\n",
    "\n",
    "\n",
    "mean_PL = calculate_mean(datalist[0])\n",
    "print(f\"The mean of petal length is {mean_PL}\")\n",
    "\n",
    "variance_PL = calculate_variance(datalist[0])\n",
    "print(f\"The Variance of petal Length is {variance_PL}\")\n",
    "\n",
    "mean_PW = calculate_mean(datalist[1])\n",
    "print(f\"The mean of petal Width is {mean_PW}\")\n",
    "\n",
    "variance_PW = calculate_variance(datalist[1])\n",
    "print(f\"The Variance of petal Width is {variance_PW}\")\n",
    "\n"
   ]
  },
  {
   "cell_type": "markdown",
   "metadata": {},
   "source": [
    "#### Task2\n",
    "----------------\n",
    "Write code to unit normalize both (feature) vectors and compute the cosine similarity among them. Please comment does it make sense to compute the cosine similarity among the feature vectors."
   ]
  },
  {
   "cell_type": "code",
   "execution_count": 51,
   "metadata": {
    "run_control": {
     "breakpoint": false
    }
   },
   "outputs": [
    {
     "name": "stdout",
     "output_type": "stream",
     "text": [
      "The unit normalization of Petal Length is [0.027546462351377907, 0.027546462351377907, 0.02557885789770806, 0.02951406680504776, 0.027546462351377907, 0.03344927571238746, 0.027546462351377907, 0.02951406680504776, 0.027546462351377907, 0.02951406680504776, 0.02951406680504776, 0.03148167125871761, 0.027546462351377907, 0.021643648990368358, 0.023611253444038208, 0.02951406680504776, 0.02557885789770806, 0.027546462351377907, 0.03344927571238746, 0.02951406680504776, 0.03344927571238746, 0.02951406680504776, 0.019676044536698505, 0.03344927571238746, 0.03738448461972716, 0.03148167125871761, 0.03148167125871761, 0.02951406680504776, 0.027546462351377907, 0.03148167125871761, 0.03148167125871761, 0.02951406680504776, 0.02951406680504776, 0.027546462351377907, 0.02951406680504776, 0.023611253444038208, 0.02557885789770806, 0.02951406680504776, 0.02557885789770806, 0.02951406680504776, 0.02557885789770806, 0.02557885789770806, 0.02557885789770806, 0.03148167125871761, 0.03738448461972716, 0.027546462351377907, 0.03148167125871761, 0.027546462351377907, 0.02951406680504776, 0.027546462351377907, 0.09247740932248298, 0.08854220041514328, 0.0964126182298227, 0.07870417814679402, 0.09050980486881312, 0.08854220041514328, 0.09247740932248298, 0.06493094697110507, 0.09050980486881312, 0.07673657369312417, 0.06886615587844477, 0.08263938705413373, 0.07870417814679402, 0.09247740932248298, 0.07083376033211462, 0.08657459596147343, 0.08854220041514328, 0.08067178260046387, 0.08854220041514328, 0.07673657369312417, 0.09444501377615283, 0.07870417814679402, 0.0964126182298227, 0.09247740932248298, 0.08460699150780357, 0.08657459596147343, 0.09444501377615283, 0.09838022268349253, 0.08854220041514328, 0.06886615587844477, 0.07476896923945432, 0.07280136478578447, 0.07673657369312417, 0.10034782713716238, 0.08854220041514328, 0.08854220041514328, 0.09247740932248298, 0.08657459596147343, 0.08067178260046387, 0.07870417814679402, 0.08657459596147343, 0.09050980486881312, 0.07870417814679402, 0.06493094697110507, 0.08263938705413373, 0.08263938705413373, 0.08263938705413373, 0.08460699150780357, 0.05902813361009552, 0.08067178260046387, 0.11805626722019104, 0.10034782713716238, 0.11608866276652119, 0.11018584940551163, 0.11412105831285134, 0.12986189394221015, 0.08854220041514328, 0.12395908058120059, 0.11412105831285134, 0.12002387167386089, 0.10034782713716238, 0.10428303604450208, 0.10821824495184179, 0.09838022268349253, 0.10034782713716238, 0.10428303604450208, 0.10821824495184179, 0.13182949839587998, 0.1357647073032197, 0.09838022268349253, 0.11215345385918149, 0.0964126182298227, 0.13182949839587998, 0.0964126182298227, 0.11215345385918149, 0.11805626722019104, 0.09444501377615283, 0.0964126182298227, 0.11018584940551163, 0.11412105831285134, 0.12002387167386089, 0.12592668503487045, 0.11018584940551163, 0.10034782713716238, 0.11018584940551163, 0.12002387167386089, 0.11018584940551163, 0.10821824495184179, 0.09444501377615283, 0.10625064049817194, 0.11018584940551163, 0.10034782713716238, 0.10034782713716238, 0.11608866276652119, 0.11215345385918149, 0.10231543159083224, 0.09838022268349253, 0.10231543159083224, 0.10625064049817194, 0.10034782713716238]\n",
      "The unit normalization of Petal Width is [0.011502994763162173, 0.011502994763162173, 0.011502994763162173, 0.011502994763162173, 0.011502994763162173, 0.023005989526324346, 0.01725449214474326, 0.011502994763162173, 0.011502994763162173, 0.0057514973815810866, 0.011502994763162173, 0.011502994763162173, 0.0057514973815810866, 0.0057514973815810866, 0.011502994763162173, 0.023005989526324346, 0.023005989526324346, 0.01725449214474326, 0.01725449214474326, 0.01725449214474326, 0.011502994763162173, 0.023005989526324346, 0.011502994763162173, 0.028757486907905434, 0.011502994763162173, 0.011502994763162173, 0.023005989526324346, 0.011502994763162173, 0.011502994763162173, 0.011502994763162173, 0.011502994763162173, 0.023005989526324346, 0.0057514973815810866, 0.011502994763162173, 0.0057514973815810866, 0.011502994763162173, 0.011502994763162173, 0.0057514973815810866, 0.011502994763162173, 0.011502994763162173, 0.01725449214474326, 0.01725449214474326, 0.011502994763162173, 0.03450898428948652, 0.023005989526324346, 0.01725449214474326, 0.011502994763162173, 0.011502994763162173, 0.011502994763162173, 0.011502994763162173, 0.08052096334213521, 0.0862724607237163, 0.0862724607237163, 0.07476946596055413, 0.0862724607237163, 0.07476946596055413, 0.09202395810529738, 0.05751497381581087, 0.07476946596055413, 0.08052096334213521, 0.05751497381581087, 0.0862724607237163, 0.05751497381581087, 0.08052096334213521, 0.07476946596055413, 0.08052096334213521, 0.0862724607237163, 0.05751497381581087, 0.0862724607237163, 0.06326647119739195, 0.10352695286845956, 0.07476946596055413, 0.0862724607237163, 0.06901796857897304, 0.07476946596055413, 0.08052096334213521, 0.08052096334213521, 0.09777545548687847, 0.0862724607237163, 0.05751497381581087, 0.06326647119739195, 0.05751497381581087, 0.06901796857897304, 0.09202395810529738, 0.0862724607237163, 0.09202395810529738, 0.0862724607237163, 0.07476946596055413, 0.07476946596055413, 0.07476946596055413, 0.06901796857897304, 0.08052096334213521, 0.06901796857897304, 0.05751497381581087, 0.07476946596055413, 0.06901796857897304, 0.07476946596055413, 0.07476946596055413, 0.06326647119739195, 0.07476946596055413, 0.14378743453952716, 0.10927845025004064, 0.12078144501320282, 0.10352695286845956, 0.1265329423947839, 0.12078144501320282, 0.09777545548687847, 0.10352695286845956, 0.10352695286845956, 0.14378743453952716, 0.11502994763162173, 0.10927845025004064, 0.12078144501320282, 0.11502994763162173, 0.13803593715794607, 0.13228443977636498, 0.10352695286845956, 0.1265329423947839, 0.13228443977636498, 0.0862724607237163, 0.13228443977636498, 0.11502994763162173, 0.11502994763162173, 0.10352695286845956, 0.12078144501320282, 0.10352695286845956, 0.10352695286845956, 0.10352695286845956, 0.12078144501320282, 0.09202395810529738, 0.10927845025004064, 0.11502994763162173, 0.1265329423947839, 0.0862724607237163, 0.08052096334213521, 0.13228443977636498, 0.13803593715794607, 0.10352695286845956, 0.10352695286845956, 0.12078144501320282, 0.13803593715794607, 0.13228443977636498, 0.10927845025004064, 0.13228443977636498, 0.14378743453952716, 0.13228443977636498, 0.10927845025004064, 0.11502994763162173, 0.13228443977636498, 0.10352695286845956]\n",
      "The cosine simalirity of two featured vectors is 0.9833848349025237\n"
     ]
    }
   ],
   "source": [
    "#Write your code here\n",
    "\n",
    "# NORMALIZATION\n",
    "#pow(sum(x^2),1/2)\n",
    "def normalization(data):\n",
    "    temp_data = []\n",
    "    for i in data:\n",
    "        temp_data.append(pow(i,2))\n",
    "    summ = sum(temp_data)\n",
    "    l2norm = pow(summ,1/2)\n",
    "    normalized = []\n",
    "    for i in data:\n",
    "        normalized.append(i/l2norm)\n",
    "\n",
    "    return normalized\n",
    "\n",
    "\n",
    "# DOT PRODUCT\n",
    "def dotproduct(data1 , data2):\n",
    "    dot_product = []\n",
    "    for i in range(len(data1)):\n",
    "        dot_product.append(data1[i]*data2[i])\n",
    "    return sum(dot_product)\n",
    "\n",
    "\n",
    "\n",
    "norm_Petallength = normalization(datalist[0])\n",
    "print(f\"The unit normalization of Petal Length is {norm_Petallength}\")\n",
    "\n",
    "\n",
    "norm_PetalWidth = normalization(datalist[1])\n",
    "print(f\"The unit normalization of Petal Width is {norm_PetalWidth}\")\n",
    "\n",
    "\n",
    "cosinesimilarity = dotproduct(norm_Petallength , norm_PetalWidth)\n",
    "print(f\"The cosine simalirity of two featured vectors is {cosinesimilarity}\")\n",
    "\n",
    "\n",
    "\n",
    "# yes it is meaningfull in many ways because it shows the similarity between two \n",
    "# vectors how much they are related to each other. Close to 1 means they are high degree of similarity"
   ]
  },
  {
   "cell_type": "markdown",
   "metadata": {},
   "source": [
    "#### Task3: Univariate Analysis\n",
    "----------------\n",
    "Lets model the petal length as a univariate bernoulli random variable by categorizing the petal length as short(< 4.9cm) and long(>=4.9cm). Write the code for finding the probability of a short petal length flower."
   ]
  },
  {
   "cell_type": "code",
   "execution_count": 52,
   "metadata": {
    "run_control": {
     "breakpoint": false
    }
   },
   "outputs": [
    {
     "name": "stdout",
     "output_type": "stream",
     "text": [
      "0.66\n"
     ]
    }
   ],
   "source": [
    "#Write your code here\n",
    "def prob_of_ShortPL(data):\n",
    "    temparray = []\n",
    "    for i in data:\n",
    "        if (i<4.9):\n",
    "            temparray.append(i)\n",
    "\n",
    "    return (len(temparray)/len(data))\n",
    "\n",
    "prob_of_shortpl = prob_of_ShortPL(datalist[0])\n",
    "print(prob_of_shortpl)"
   ]
  },
  {
   "cell_type": "markdown",
   "metadata": {},
   "source": [
    "#### Task4: Univariate Analysis\n",
    "----------------\n",
    "Lets consider that we randomly choose 20 flower, whats the probability that 15 among them will be short petal lenght ones ?"
   ]
  },
  {
   "cell_type": "code",
   "execution_count": 53,
   "metadata": {
    "run_control": {
     "breakpoint": false
    }
   },
   "outputs": [
    {
     "name": "stdout",
     "output_type": "stream",
     "text": [
      "The probability that 15 among 20 will be short petal lenght ones is 0.13835580260301528\n"
     ]
    }
   ],
   "source": [
    "# Write your code here\n",
    "# (n!/k!(n-k)!)*p^k*(1-p)^n-k\n",
    "\n",
    "def factorial(number):\n",
    "    if number == 1:\n",
    "        return 1\n",
    "    else :\n",
    "        return number*factorial(number-1)\n",
    "    \n",
    "# computing n!/k!(n-k)!\n",
    "# in this case n = 20 , k = 15\n",
    "n = 20\n",
    "k = 15\n",
    "snip1 = factorial(n)/(factorial(k)*factorial(n-k))\n",
    "\n",
    "# finding propotion back\n",
    "probinprop = prob_of_shortpl\n",
    "\n",
    "# computing P^k\n",
    "snip2 = pow(probinprop,  k)\n",
    "\n",
    "# computing (1-p)^n-k\n",
    "probcomplement_of_shortpl = 1 - probinprop\n",
    "snip3 = pow(probcomplement_of_shortpl,n-k)\n",
    "\n",
    "\n",
    "final_prob = snip1*snip2*snip3\n",
    "print(f\"The probability that 15 among 20 will be short petal lenght ones is {final_prob}\")\n"
   ]
  },
  {
   "cell_type": "markdown",
   "metadata": {},
   "source": [
    "#### Task5: Univariate Analysis\n",
    "----------------\n",
    "Lets model the petal Width as a univariate Bernoulli random variable by categorizing the petal width as short(< 1.6cm) and long(>=1.6cm). Write the code for finding the probability of a short petal width flower."
   ]
  },
  {
   "cell_type": "code",
   "execution_count": 54,
   "metadata": {
    "run_control": {
     "breakpoint": false
    }
   },
   "outputs": [
    {
     "name": "stdout",
     "output_type": "stream",
     "text": [
      "0.6533333333333333\n"
     ]
    }
   ],
   "source": [
    "#Write your code here\n",
    "def prob_of_ShortPW(data):\n",
    "    temparray = []\n",
    "    for i in data:\n",
    "        if (i<1.6):\n",
    "            temparray.append(i)\n",
    "    return (len(temparray)/len(data))\n",
    "\n",
    "prob_of_shortpw = prob_of_ShortPW(datalist[1])\n",
    "print(prob_of_shortpw)"
   ]
  },
  {
   "cell_type": "markdown",
   "metadata": {},
   "source": [
    "#### Task6: Univariate Analysis\n",
    "----------------\n",
    "Lets model the petal length as a univariate continuous Gaussian random variable. What is the probability of seeing a flower with the petal lenght in the range $\\in [5.6,\\; 5.7]$. Recall that a gaussian pdf is\n",
    "$$f(x) = \\frac{1}{\\sigma \\sqrt{2\\pi} } e^{ -\\frac{(x-\\mu)^2}{2\\sigma^2} }$$"
   ]
  },
  {
   "cell_type": "code",
   "execution_count": 55,
   "metadata": {
    "run_control": {
     "breakpoint": false
    }
   },
   "outputs": [
    {
     "name": "stdout",
     "output_type": "stream",
     "text": [
      "-0.5481957632385132\n",
      "-0.5541662666449731\n",
      "-0.5601691071343351\n",
      "-0.5662042847065991\n",
      "-0.5722717993617649\n",
      "-0.5783716510998327\n",
      "-0.5845038399208023\n",
      "-0.5906683658246741\n",
      "-0.5968652288114475\n",
      "-0.6030944288811231\n",
      "-0.6093559660337005\n"
     ]
    },
    {
     "data": {
      "text/plain": [
       "0.013995246492009727"
      ]
     },
     "execution_count": 55,
     "metadata": {},
     "output_type": "execute_result"
    }
   ],
   "source": [
    "#Write your code here, use summation instead of integral, \n",
    "# you are not authorized to use scipy.stats function for this and later parts...\n",
    "import math # for exponential function\n",
    "def calculate(std , mean , x):\n",
    "    exponent = -(pow((x-mean),2)) / (2*pow(std , 2))\n",
    "    print(exponent)\n",
    "    outer = 1/(std*pow(2*math.pi , 1/2))\n",
    "    return outer * math.exp(exponent)\n",
    "def calculategausianpdf(std_PL , mean_PL , data , lowerrange , upperrange):\n",
    "    x = lowerrange\n",
    "    incfunction = 0.01\n",
    "    tempprobability = 0\n",
    "    while(x<upperrange):    \n",
    "        tempprobability+=calculate(std_PL , mean_PL , x) * incfunction\n",
    "        x+=incfunction\n",
    "    return tempprobability\n",
    "\n",
    "\n",
    "# calculate stanard deciation i.e sigma\n",
    "std_PL = pow(variance_PL , 1/2)\n",
    "lowerrange = 5.6 \n",
    "upperrange = 5.7\n",
    "prob = calculategausianpdf(std_PL , mean_PL , datalist[0] , lowerrange , upperrange)\n",
    "prob\n"
   ]
  },
  {
   "cell_type": "markdown",
   "metadata": {},
   "source": [
    "#### Task7: Univariate Analysis\n",
    "----------------\n",
    "Lets model the petal length as a univariate continuous Gaussian random variable. What is the probability of seeing a flower with the petal lenght in the range $\\in [5.6,\\; 5.7]$. Recall that a gaussian pdf is"
   ]
  },
  {
   "cell_type": "code",
   "execution_count": 56,
   "metadata": {
    "run_control": {
     "breakpoint": false
    }
   },
   "outputs": [],
   "source": [
    "#Write your code here"
   ]
  },
  {
   "cell_type": "markdown",
   "metadata": {},
   "source": [
    "#### Task8: Univariate Analysis\n",
    "----------------\n",
    "Lets model the petal length as a univariate continuous Gaussian random variable. What is the relative probability of seeing a flower with the petal length 5.4 to a flower with petal length 3.9."
   ]
  },
  {
   "cell_type": "code",
   "execution_count": 57,
   "metadata": {
    "run_control": {
     "breakpoint": false
    }
   },
   "outputs": [
    {
     "name": "stdout",
     "output_type": "stream",
     "text": [
      "0.6489842709482121\n"
     ]
    }
   ],
   "source": [
    "#Write your code here\n",
    "\n",
    "# since relative probabilty is found out by finding ratio of pdfs.\n",
    "\n",
    "\n",
    "def calculaterelativeprobability(PL1 , PL2 , std , mean):\n",
    "    \n",
    "    # for 5.9\n",
    "    exponent1 = -(pow((PL1-mean),2)) / (2*pow(std , 2))\n",
    "    # for 3.9\n",
    "    exponent2 = -(pow((PL2-mean),2)) / (2*pow(std , 2))\n",
    "\n",
    "    return math.exp(exponent1 - exponent2)\n",
    "\n",
    "\n",
    "petallength1 = 5.4\n",
    "petallength2 = 3.9\n",
    "relativeprobability = calculaterelativeprobability(petallength1 , petallength2 , std_PL , mean_PL)\n",
    "print(relativeprobability)"
   ]
  },
  {
   "cell_type": "markdown",
   "metadata": {},
   "source": [
    "#### Task9: Univariate Analysis\n",
    "Write a function to build a histogarm of the given feature vector (list). Your function should receive two arguments a feature vector (a list) and number of bins and return the built histogram. "
   ]
  },
  {
   "cell_type": "code",
   "execution_count": 58,
   "metadata": {
    "run_control": {
     "breakpoint": false
    }
   },
   "outputs": [
    {
     "name": "stdout",
     "output_type": "stream",
     "text": [
      "1.0\n",
      "The histogram distribution of Petal length [50, 3, 34, 47, 16]\n",
      "0.1\n",
      "The histogram distribution of Petal Width [49, 8, 41, 29, 23]\n"
     ]
    }
   ],
   "source": [
    "def buildHistogram(feature, nbins):\n",
    "    \"\"\" Histogram the feature into number of bins \"\"\"\n",
    "    #Write your code here    \n",
    "    max_value = max(feature)\n",
    "    min_value = min(feature)\n",
    "    print(min_value)\n",
    "    width = (max_value - min_value) / nbins\n",
    "\n",
    "    bins = [0]*nbins\n",
    "\n",
    "    for i in feature:\n",
    "        prefferedbin = int((i - min_value)/width)\n",
    "        if prefferedbin == nbins:   # out of bounds check\n",
    "            prefferedbin = nbins-1\n",
    "        bins[prefferedbin]+=1\n",
    "\n",
    "    return bins\n",
    "\n",
    "histogramPL = buildHistogram(datalist[0] , 5)\n",
    "print(f\"The histogram distribution of Petal length {histogramPL}\")\n",
    "\n",
    "histogramPW = buildHistogram(datalist[1] , 5)\n",
    "print(f\"The histogram distribution of Petal Width {histogramPW}\")"
   ]
  },
  {
   "cell_type": "code",
   "execution_count": 1,
   "metadata": {},
   "outputs": [
    {
     "name": "stdout",
     "output_type": "stream",
     "text": [
      "[0, 0, 0, 0, 0]\n"
     ]
    }
   ],
   "source": [
    "print([0]*5)"
   ]
  },
  {
   "cell_type": "markdown",
   "metadata": {},
   "source": [
    "#### Task10: Univariate Analysis\n",
    "Write a function that returns a list containing all the four quantile of the given feature vector."
   ]
  },
  {
   "cell_type": "code",
   "execution_count": 59,
   "metadata": {
    "run_control": {
     "breakpoint": false
    }
   },
   "outputs": [
    {
     "name": "stdout",
     "output_type": "stream",
     "text": [
      "The Four Quantile of Petal Length is [1.6, 4.4, 5.1]\n",
      "The Four Quantile of Petal Width is [0.3, 1.3, 1.8]\n"
     ]
    }
   ],
   "source": [
    "def getQuantile(features):\n",
    "    \"\"\" Function returns the four quantile of the given feature vector in a list \"\"\"    \n",
    "    quartile=[0]*3\n",
    "    #Write your code here  \n",
    "    # Sort first  \n",
    "    sorted_array = sorted(features)\n",
    "\n",
    "    total_data = len(sorted_array)\n",
    "    \n",
    "    Q1 = int(0.25*total_data)\n",
    "    Q2 = int(0.50*total_data)\n",
    "    Q3 = int(0.75*total_data)\n",
    "\n",
    "    quartile[0] = sorted_array[Q1]\n",
    "    quartile[1] = sorted_array[Q2]\n",
    "    quartile[2] = sorted_array[Q3]\n",
    "    \n",
    "\n",
    "\n",
    "    return quartile\n",
    "\n",
    "QuantilePL = getQuantile(datalist[0])\n",
    "QuantilePW = getQuantile(datalist[1])\n",
    "\n",
    "print(f\"The Four Quantile of Petal Length is {QuantilePL}\")\n",
    "\n",
    "print(f\"The Four Quantile of Petal Width is {QuantilePW}\")"
   ]
  },
  {
   "cell_type": "markdown",
   "metadata": {},
   "source": [
    "#### Task11: Univariate Analysis\n",
    "Find the outliers in the features petal length and width. Comment on how you have decided on the features which are outliers."
   ]
  },
  {
   "cell_type": "code",
   "execution_count": 60,
   "metadata": {
    "run_control": {
     "breakpoint": false
    }
   },
   "outputs": [
    {
     "name": "stdout",
     "output_type": "stream",
     "text": [
      "Petal length Details\n",
      "Q1: 1.6, Q3: 5.1, IQR: 3.4999999999999996\n",
      "Lower bound: -3.649999999999999, Upper bound: 10.349999999999998\n",
      "Petal Width Details\n",
      "Q1: 0.3, Q3: 1.8, IQR: 1.5\n",
      "Lower bound: -1.95, Upper bound: 4.05\n",
      "Petal length outliers are []\n",
      "Petal Width outliers are []\n"
     ]
    }
   ],
   "source": [
    "#Write your code here  \n",
    "import matplotlib.pyplot as plt\n",
    "\n",
    "def computeQuantiles(feature , string1):\n",
    "    sorted_array = sorted(feature)\n",
    "    total_data = len(sorted_array)\n",
    "\n",
    "    Q1 =  sorted_array[int(0.25 * total_data)]\n",
    "    Q3 =  sorted_array[int(0.75 * total_data)]\n",
    "\n",
    "\n",
    "    IQR = Q3 - Q1\n",
    "\n",
    "    # making 0.4 instead of 1.5 because data is sensitive and no data comes in 1.5\n",
    "    lower_bound = Q1 - (1.5*IQR)\n",
    "    upper_bound = Q3 + (1.5*IQR)\n",
    "    \n",
    "    # Print IQR and bounds\n",
    "    print(string1)\n",
    "    print(f\"Q1: {Q1}, Q3: {Q3}, IQR: {IQR}\")\n",
    "    print(f\"Lower bound: {lower_bound}, Upper bound: {upper_bound}\")\n",
    "\n",
    "\n",
    "    outliers_array = []\n",
    "    for i in feature:\n",
    "        if ((i < lower_bound) or (i > upper_bound)):\n",
    "            outliers_array.append(i)\n",
    "    return outliers_array\n",
    "\n",
    "\n",
    "    # # Histogram\n",
    "    # plt.figure(figsize=(14, 6))\n",
    "    # plt.subplot(1, 2, 1)\n",
    "    # plt.hist(feature, bins=20, edgecolor='b', alpha=0.7 , color='r')\n",
    "    # plt.title('Histogram')\n",
    "    # plt.xlabel('Value')\n",
    "    # plt.ylabel('Frequency')\n",
    "    \n",
    "\n",
    "    # plt.tight_layout()\n",
    "    # plt.show()\n",
    "\n",
    "\n",
    "PetallengthOutliers = computeQuantiles(datalist[0] , \"Petal length Details\")\n",
    "PetalWidthOutliers = computeQuantiles(datalist[1] , \"Petal Width Details\")\n",
    "\n",
    "\n",
    "print(f\"Petal length outliers are {PetallengthOutliers}\")\n",
    "print(f\"Petal Width outliers are {PetalWidthOutliers}\")\n"
   ]
  },
  {
   "cell_type": "markdown",
   "metadata": {},
   "source": [
    "#### Task12: Multivariate Analysis\n",
    "Lets model the petal length and width as a bivariate Bernoulli random variable by categorizing the petal length (< 4.9cm) and petal width as short(< 1.6cm) and vice versa. Suppose that petal length is represented by random variable $x$ and petal width by random variable $y$. Now write the code for finding the probability of following cases:\n",
    "$$P(x=0, y=0)= ?$$\n",
    "$$P(x=0, y=1)= ?$$\n",
    "$$P(x=1, y=0)= ?$$\n",
    "$$P(x=1, y=1)= ?$$\n",
    "\n",
    "Here $x=0$ represent the flowers with short petal length and $x=1$ represent the flower with long petal length..\n"
   ]
  },
  {
   "cell_type": "code",
   "execution_count": 61,
   "metadata": {
    "run_control": {
     "breakpoint": false
    }
   },
   "outputs": [
    {
     "name": "stdout",
     "output_type": "stream",
     "text": [
      "Probability for P(x=0, y=0) is 0.62\n",
      "Probability for P(x=0, y=1) is 0.04\n",
      "Probability for P(x=1, y=0) is 0.03333333333333333\n",
      "Probability for P(x=1, y=1) is 0.30666666666666664\n"
     ]
    }
   ],
   "source": [
    "#Write your code here  \n",
    "\n",
    "def calculatebivariateprob(feature1 , feature2):\n",
    "    total_length = len(feature1)\n",
    "\n",
    "    temp_count1 = 0\n",
    "    temp_count2 = 0\n",
    "    temp_count3 = 0\n",
    "    temp_count4 = 0\n",
    "    for i in range(total_length):\n",
    "        if(feature1[i]  < 4.9 and feature2[i] <1.6):\n",
    "            temp_count1+=1 # for x = 0 , y = 0\n",
    "        elif feature1[i] < 4.9 and feature2[i] >= 1.6:\n",
    "            temp_count2 += 1  # for x = 0 , y = 1\n",
    "        elif feature1[i] >= 4.9 and feature2[i] < 1.6:\n",
    "            temp_count3 += 1  # for x = 1 , y = 0\n",
    "        elif feature1[i] >= 4.9 and feature2[i] >= 1.6:\n",
    "            temp_count4 += 1  #for x = 1 , y = 1\n",
    "\n",
    "    prob1 = temp_count1 / total_length\n",
    "    prob2 = temp_count2 / total_length\n",
    "    prob3 = temp_count3 / total_length\n",
    "    prob4 = temp_count4 / total_length\n",
    "\n",
    "    return prob1 , prob2 , prob3 , prob4\n",
    "\n",
    "\n",
    "\n",
    "\n",
    "x0y0 , x0y1 , x1y0 , x1y1 = calculatebivariateprob(datalist[0] , datalist[1])\n",
    "\n",
    "print(f\"Probability for P(x=0, y=0) is {x0y0}\")\n",
    "print(f\"Probability for P(x=0, y=1) is {x0y1}\")\n",
    "print(f\"Probability for P(x=1, y=0) is {x1y0}\")\n",
    "print(f\"Probability for P(x=1, y=1) is {x1y1}\")"
   ]
  },
  {
   "cell_type": "markdown",
   "metadata": {},
   "source": [
    "#### Task13: Multivariate Analysis\n",
    "What will be probability of seeing of flower with long petal length ? Find the result using marginalization principle."
   ]
  },
  {
   "cell_type": "code",
   "execution_count": 62,
   "metadata": {
    "run_control": {
     "breakpoint": false
    }
   },
   "outputs": [
    {
     "name": "stdout",
     "output_type": "stream",
     "text": [
      "probability of seeing long petal length flower is 0.33999999999999997\n"
     ]
    }
   ],
   "source": [
    "# marginalization add all possible probabilities in which a particular event can occur\n",
    "\n",
    "def prob_long_PL_margin(x1y1 , x1y0):\n",
    "    return x1y1 + x1y0\n",
    "\n",
    "marginalization_analysis = prob_long_PL_margin(x1y1 , x1y0)\n",
    "print(f\"probability of seeing long petal length flower is {marginalization_analysis}\")"
   ]
  },
  {
   "cell_type": "markdown",
   "metadata": {},
   "source": [
    "#### Task14: Multivariate Analysis\n",
    "Lets model the sepal length, sepal width, petal length and width as a multivariate Bernoulli random variable by categorizing the sepal length  as (short< 7.1cm), sepal width (short< 3.1cm), petal length (short< 4.9cm) and petal width (short< 1.6cm) and vice versa. Suppose that all four measures are represented by random variables $x_1, x_2, x_3, x_4$ respectively. Now write the code for finding the probability of the following cases:\n",
    "$$p(x_1=1, x_2=1, x_3=0, x_4=1)$$\n",
    "$$p(x_1=0, x_2=1, x_3=0, x_4=1)$$\n",
    "$$p(x_1=0, x_2=0, x_3=0, x_4=1)$$\n",
    "$$p(x_1=1, x_2=1, x_3=1, x_4=1)$$\n",
    "\n",
    "Here $x_i=0$ represent the flowers with short featuers and $x_i=1$ represent the flower with long feature.\n"
   ]
  },
  {
   "cell_type": "markdown",
   "metadata": {},
   "source": []
  },
  {
   "cell_type": "code",
   "execution_count": 63,
   "metadata": {},
   "outputs": [],
   "source": [
    "datalist.append(list(data['SepalLengthCm'].dropna()))\n",
    "datalist.append(list(data['SepalWidthCm'].dropna()))\n"
   ]
  },
  {
   "cell_type": "code",
   "execution_count": 64,
   "metadata": {
    "run_control": {
     "breakpoint": false
    }
   },
   "outputs": [
    {
     "name": "stdout",
     "output_type": "stream",
     "text": [
      "The probability of p(x_1=1, x_2=1, x_3=0, x_4=1) 0.0\n",
      "The probability of p(x_1=0, x_2=1, x_3=0, x_4=1) 0.02\n",
      "The probability of p(x_1=0, x_2=0, x_3=0, x_4=1) 0.02\n",
      "The probability of p(x_1=1, x_2=1, x_3=1, x_4=1) 0.02666666666666667\n"
     ]
    }
   ],
   "source": [
    "#Write your code here\n",
    "\n",
    "\n",
    "# needed : sepallength sepalwidth petallength PetalWidth\n",
    "\n",
    "\n",
    "# arranged : petallength petalwidth sepallength sepalwdth\n",
    "\n",
    "\n",
    "def  calculatemultivariateprob():\n",
    "    total_length = len(datalist[0])\n",
    "    tempcount = 0\n",
    "    tempcount1 = 0\n",
    "    tempcount2 = 0\n",
    "    tempcount3 = 0\n",
    "    for i in range(total_length):\n",
    "        if ((datalist[2][i] >= 7.1) and (datalist[3][i]>=3.1) and (datalist[0][i]<4.9) and (datalist[1][i]>=1.6)):\n",
    "            tempcount+=1 # for [1 , 1 , 0 , 1]\n",
    "        elif ((datalist[2][i] < 7.1) and (datalist[3][i]>=3.1) and (datalist[0][i]<4.9) and (datalist[1][i]>=1.6)):\n",
    "             tempcount1+=1  # for [0 , 1 , 0 , 1]\n",
    "        elif ((datalist[2][i] < 7.1) and (datalist[3][i]<3.1) and (datalist[0][i]<4.9) and (datalist[1][i]>=1.6)):\n",
    "             tempcount2+=1  # for [0 , 0 , 0 , 1]\n",
    "        elif ((datalist[2][i] >=7.1) and (datalist[3][i]>=3.1) and (datalist[0][i]>=4.9) and (datalist[1][i]>=1.6)):\n",
    "             tempcount3+=1  # for [1 , 1 , 1 , 1]\n",
    "        \n",
    "    prob1 = tempcount / total_length\n",
    "    prob2 = tempcount1 / total_length\n",
    "    prob3 = tempcount2 / total_length\n",
    "    prob4 = tempcount3 / total_length\n",
    "\n",
    "    return prob1 , prob2 , prob3 , prob4\n",
    "\n",
    "probability1 , probability2 , probability3 , probability4 = calculatemultivariateprob()\n",
    "\n",
    "\n",
    "print(f\"The probability of p(x_1=1, x_2=1, x_3=0, x_4=1) {probability1}\")\n",
    "print(f\"The probability of p(x_1=0, x_2=1, x_3=0, x_4=1) {probability2}\")\n",
    "print(f\"The probability of p(x_1=0, x_2=0, x_3=0, x_4=1) {probability3}\")\n",
    "print(f\"The probability of p(x_1=1, x_2=1, x_3=1, x_4=1) {probability4}\")"
   ]
  },
  {
   "cell_type": "markdown",
   "metadata": {},
   "source": [
    "#### Task15: Multivariate Analysis\n",
    "Find the following probabilities using marginalization principle:\n",
    "$$p(x_1=1, x_2=1,  x_4=1)$$\n",
    "$$p(x_1=0, x_4=1)$$"
   ]
  },
  {
   "cell_type": "code",
   "execution_count": 65,
   "metadata": {
    "run_control": {
     "breakpoint": false
    }
   },
   "outputs": [
    {
     "name": "stdout",
     "output_type": "stream",
     "text": [
      "Probability of p(x1 = 1 , x2 = 1 , x4 = 1) 0.02666666666666667\n",
      "Probability of p(x1 = 1 , x2 = 1 , x4 = 1) is 0.2733333333333333\n"
     ]
    }
   ],
   "source": [
    "#Write your code here\n",
    "# for p(x1 = 1 , x2 = 1 , x4 = 1)\n",
    "\n",
    "# add prob1 and 4\n",
    "\n",
    "print(f\"Probability of p(x1 = 1 , x2 = 1 , x4 = 1) {probability1 + probability4}\")\n",
    "\n",
    "# for p(x1 = 0 , x4 = 1)\n",
    "\n",
    "def calculate_remaining():\n",
    "    total_length = len(datalist[0])\n",
    "    temp_count1 = 0\n",
    "    temp_count2 = 0\n",
    "    for i in range(total_length):\n",
    "        if ((datalist[2][i] <= 7.1) and (datalist[3][i]>=3.1) and (datalist[0][i]>4.9) and (datalist[1][i]>1.6)): # for case [0 1 1 1]\n",
    "            temp_count1+=1\n",
    "        if ((datalist[2][i] <= 7.1) and (datalist[3][i]<=3.1) and (datalist[0][i]>4.9) and (datalist[1][i]>1.6)): # for case [0 0 1 1]\n",
    "            temp_count2+=1\n",
    "\n",
    "    return temp_count1/total_length , temp_count2 / total_length\n",
    "\n",
    "probability5 , probability6 = calculate_remaining()\n",
    "print(f\"Probability of p(x1 = 1 , x2 = 1 , x4 = 1) is {probability2 + probability3 + probability5 + probability6}\")\n"
   ]
  },
  {
   "cell_type": "code",
   "execution_count": null,
   "metadata": {},
   "outputs": [],
   "source": []
  }
 ],
 "metadata": {
  "anaconda-cloud": {},
  "kernelspec": {
   "display_name": "Python 3",
   "language": "python",
   "name": "python3"
  },
  "language_info": {
   "codemirror_mode": {
    "name": "ipython",
    "version": 3
   },
   "file_extension": ".py",
   "mimetype": "text/x-python",
   "name": "python",
   "nbconvert_exporter": "python",
   "pygments_lexer": "ipython3",
   "version": "3.11.9"
  }
 },
 "nbformat": 4,
 "nbformat_minor": 1
}
