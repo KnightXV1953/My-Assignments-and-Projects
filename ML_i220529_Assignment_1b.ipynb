{
 "cells": [
  {
   "cell_type": "markdown",
   "metadata": {
    "collapsed": true
   },
   "source": [
    "# Assignment No 1b\n",
    "###### *Hassan Raza*\n",
    "----\n",
    "## Goal\n",
    "\n",
    "Your goal in this assigment is to implement and refresh the multivariate concepts learned during the previous weeks using the Python language. This will not only solidify your Python understanding but also give you strong footing for further advancement :)\n",
    "\n",
    "**Note** Please note that can use *numpy and scipy* to complete the tasks. In case you need any help you can post on google classroom.\n",
    "\n",
    "## Submission Instructions\n",
    "You are required to submit the original notebook file on the google classroom (with .ipynb extension), with complete set of outputs. Students failing to do so will get zero marks. \n",
    "\n",
    "*Please read each step carefully and understand it fully before proceeding with code writing*\n",
    "\n",
    "## Plagiarism\n",
    "Any form of plagiarism will not be tolerated and result in 0 marks."
   ]
  },
  {
   "cell_type": "markdown",
   "metadata": {},
   "source": [
    "**So Lets Start**"
   ]
  },
  {
   "cell_type": "code",
   "execution_count": 93,
   "metadata": {},
   "outputs": [
    {
     "name": "stdout",
     "output_type": "stream",
     "text": [
      "%pylab is deprecated, use %matplotlib inline and import the required libraries.\n",
      "Populating the interactive namespace from numpy and matplotlib\n"
     ]
    },
    {
     "name": "stderr",
     "output_type": "stream",
     "text": [
      "C:\\Users\\muham\\AppData\\Local\\Packages\\PythonSoftwareFoundation.Python.3.11_qbz5n2kfra8p0\\LocalCache\\local-packages\\Python311\\site-packages\\IPython\\core\\magics\\pylab.py:166: UserWarning: pylab import has clobbered these variables: ['short', 'mean', 'norm', 'std', 'long']\n",
      "`%matplotlib` prevents importing * from pylab and numpy\n",
      "  warn(\"pylab import has clobbered these variables: %s\"  % clobbered +\n"
     ]
    }
   ],
   "source": [
    "# magic command to include all the necessary libraries\n",
    "%pylab inline "
   ]
  },
  {
   "cell_type": "code",
   "execution_count": 94,
   "metadata": {
    "run_control": {
     "breakpoint": false
    }
   },
   "outputs": [
    {
     "name": "stderr",
     "output_type": "stream",
     "text": [
      "'wget' is not recognized as an internal or external command,\n",
      "operable program or batch file.\n"
     ]
    }
   ],
   "source": [
    "#Download the IRIS dataset\n",
    "#\"!\" means run the bash (shell) command\n",
    "!wget http://archive.ics.uci.edu/ml/machine-learning-databases/iris/iris.data"
   ]
  },
  {
   "cell_type": "code",
   "execution_count": 123,
   "metadata": {
    "run_control": {
     "breakpoint": false
    }
   },
   "outputs": [],
   "source": [
    "#import pandas and name this namespace as pd\n",
    "import pandas as pd"
   ]
  },
  {
   "cell_type": "code",
   "execution_count": 124,
   "metadata": {
    "run_control": {
     "breakpoint": false
    }
   },
   "outputs": [
    {
     "name": "stdout",
     "output_type": "stream",
     "text": [
      "               Id  SepalLengthCm  SepalWidthCm  PetalLengthCm  PetalWidthCm\n",
      "count  150.000000     150.000000    150.000000     150.000000    150.000000\n",
      "mean    75.500000       5.843333      3.054000       3.758667      1.198667\n",
      "std     43.445368       0.828066      0.433594       1.764420      0.763161\n",
      "min      1.000000       4.300000      2.000000       1.000000      0.100000\n",
      "25%     38.250000       5.100000      2.800000       1.600000      0.300000\n",
      "50%     75.500000       5.800000      3.000000       4.350000      1.300000\n",
      "75%    112.750000       6.400000      3.300000       5.100000      1.800000\n",
      "max    150.000000       7.900000      4.400000       6.900000      2.500000\n"
     ]
    }
   ],
   "source": [
    "#Load data and name the columns\n",
    "data=pd.read_csv('iris.csv')\n",
    "\n",
    "print (data.describe())"
   ]
  },
  {
   "cell_type": "code",
   "execution_count": 125,
   "metadata": {},
   "outputs": [
    {
     "data": {
      "text/html": [
       "<div>\n",
       "<style scoped>\n",
       "    .dataframe tbody tr th:only-of-type {\n",
       "        vertical-align: middle;\n",
       "    }\n",
       "\n",
       "    .dataframe tbody tr th {\n",
       "        vertical-align: top;\n",
       "    }\n",
       "\n",
       "    .dataframe thead th {\n",
       "        text-align: right;\n",
       "    }\n",
       "</style>\n",
       "<table border=\"1\" class=\"dataframe\">\n",
       "  <thead>\n",
       "    <tr style=\"text-align: right;\">\n",
       "      <th></th>\n",
       "      <th>Id</th>\n",
       "      <th>SepalLengthCm</th>\n",
       "      <th>SepalWidthCm</th>\n",
       "      <th>PetalLengthCm</th>\n",
       "      <th>PetalWidthCm</th>\n",
       "      <th>Species</th>\n",
       "    </tr>\n",
       "  </thead>\n",
       "  <tbody>\n",
       "    <tr>\n",
       "      <th>0</th>\n",
       "      <td>1</td>\n",
       "      <td>5.1</td>\n",
       "      <td>3.5</td>\n",
       "      <td>1.4</td>\n",
       "      <td>0.2</td>\n",
       "      <td>Iris-setosa</td>\n",
       "    </tr>\n",
       "    <tr>\n",
       "      <th>1</th>\n",
       "      <td>2</td>\n",
       "      <td>4.9</td>\n",
       "      <td>3.0</td>\n",
       "      <td>1.4</td>\n",
       "      <td>0.2</td>\n",
       "      <td>Iris-setosa</td>\n",
       "    </tr>\n",
       "    <tr>\n",
       "      <th>2</th>\n",
       "      <td>3</td>\n",
       "      <td>4.7</td>\n",
       "      <td>3.2</td>\n",
       "      <td>1.3</td>\n",
       "      <td>0.2</td>\n",
       "      <td>Iris-setosa</td>\n",
       "    </tr>\n",
       "    <tr>\n",
       "      <th>3</th>\n",
       "      <td>4</td>\n",
       "      <td>4.6</td>\n",
       "      <td>3.1</td>\n",
       "      <td>1.5</td>\n",
       "      <td>0.2</td>\n",
       "      <td>Iris-setosa</td>\n",
       "    </tr>\n",
       "    <tr>\n",
       "      <th>4</th>\n",
       "      <td>5</td>\n",
       "      <td>5.0</td>\n",
       "      <td>3.6</td>\n",
       "      <td>1.4</td>\n",
       "      <td>0.2</td>\n",
       "      <td>Iris-setosa</td>\n",
       "    </tr>\n",
       "    <tr>\n",
       "      <th>...</th>\n",
       "      <td>...</td>\n",
       "      <td>...</td>\n",
       "      <td>...</td>\n",
       "      <td>...</td>\n",
       "      <td>...</td>\n",
       "      <td>...</td>\n",
       "    </tr>\n",
       "    <tr>\n",
       "      <th>145</th>\n",
       "      <td>146</td>\n",
       "      <td>6.7</td>\n",
       "      <td>3.0</td>\n",
       "      <td>5.2</td>\n",
       "      <td>2.3</td>\n",
       "      <td>Iris-virginica</td>\n",
       "    </tr>\n",
       "    <tr>\n",
       "      <th>146</th>\n",
       "      <td>147</td>\n",
       "      <td>6.3</td>\n",
       "      <td>2.5</td>\n",
       "      <td>5.0</td>\n",
       "      <td>1.9</td>\n",
       "      <td>Iris-virginica</td>\n",
       "    </tr>\n",
       "    <tr>\n",
       "      <th>147</th>\n",
       "      <td>148</td>\n",
       "      <td>6.5</td>\n",
       "      <td>3.0</td>\n",
       "      <td>5.2</td>\n",
       "      <td>2.0</td>\n",
       "      <td>Iris-virginica</td>\n",
       "    </tr>\n",
       "    <tr>\n",
       "      <th>148</th>\n",
       "      <td>149</td>\n",
       "      <td>6.2</td>\n",
       "      <td>3.4</td>\n",
       "      <td>5.4</td>\n",
       "      <td>2.3</td>\n",
       "      <td>Iris-virginica</td>\n",
       "    </tr>\n",
       "    <tr>\n",
       "      <th>149</th>\n",
       "      <td>150</td>\n",
       "      <td>5.9</td>\n",
       "      <td>3.0</td>\n",
       "      <td>5.1</td>\n",
       "      <td>1.8</td>\n",
       "      <td>Iris-virginica</td>\n",
       "    </tr>\n",
       "  </tbody>\n",
       "</table>\n",
       "<p>150 rows × 6 columns</p>\n",
       "</div>"
      ],
      "text/plain": [
       "      Id  SepalLengthCm  SepalWidthCm  PetalLengthCm  PetalWidthCm  \\\n",
       "0      1            5.1           3.5            1.4           0.2   \n",
       "1      2            4.9           3.0            1.4           0.2   \n",
       "2      3            4.7           3.2            1.3           0.2   \n",
       "3      4            4.6           3.1            1.5           0.2   \n",
       "4      5            5.0           3.6            1.4           0.2   \n",
       "..   ...            ...           ...            ...           ...   \n",
       "145  146            6.7           3.0            5.2           2.3   \n",
       "146  147            6.3           2.5            5.0           1.9   \n",
       "147  148            6.5           3.0            5.2           2.0   \n",
       "148  149            6.2           3.4            5.4           2.3   \n",
       "149  150            5.9           3.0            5.1           1.8   \n",
       "\n",
       "            Species  \n",
       "0       Iris-setosa  \n",
       "1       Iris-setosa  \n",
       "2       Iris-setosa  \n",
       "3       Iris-setosa  \n",
       "4       Iris-setosa  \n",
       "..              ...  \n",
       "145  Iris-virginica  \n",
       "146  Iris-virginica  \n",
       "147  Iris-virginica  \n",
       "148  Iris-virginica  \n",
       "149  Iris-virginica  \n",
       "\n",
       "[150 rows x 6 columns]"
      ]
     },
     "execution_count": 125,
     "metadata": {},
     "output_type": "execute_result"
    }
   ],
   "source": [
    "data"
   ]
  },
  {
   "cell_type": "code",
   "execution_count": 126,
   "metadata": {
    "run_control": {
     "breakpoint": false
    }
   },
   "outputs": [
    {
     "name": "stdout",
     "output_type": "stream",
     "text": [
      "PetalLength= [1.4, 1.4, 1.3, 1.5, 1.4, 1.7, 1.4, 1.5, 1.4, 1.5, 1.5, 1.6, 1.4, 1.1, 1.2, 1.5, 1.3, 1.4, 1.7, 1.5, 1.7, 1.5, 1.0, 1.7, 1.9, 1.6, 1.6, 1.5, 1.4, 1.6, 1.6, 1.5, 1.5, 1.4, 1.5, 1.2, 1.3, 1.5, 1.3, 1.5, 1.3, 1.3, 1.3, 1.6, 1.9, 1.4, 1.6, 1.4, 1.5, 1.4, 4.7, 4.5, 4.9, 4.0, 4.6, 4.5, 4.7, 3.3, 4.6, 3.9, 3.5, 4.2, 4.0, 4.7, 3.6, 4.4, 4.5, 4.1, 4.5, 3.9, 4.8, 4.0, 4.9, 4.7, 4.3, 4.4, 4.8, 5.0, 4.5, 3.5, 3.8, 3.7, 3.9, 5.1, 4.5, 4.5, 4.7, 4.4, 4.1, 4.0, 4.4, 4.6, 4.0, 3.3, 4.2, 4.2, 4.2, 4.3, 3.0, 4.1, 6.0, 5.1, 5.9, 5.6, 5.8, 6.6, 4.5, 6.3, 5.8, 6.1, 5.1, 5.3, 5.5, 5.0, 5.1, 5.3, 5.5, 6.7, 6.9, 5.0, 5.7, 4.9, 6.7, 4.9, 5.7, 6.0, 4.8, 4.9, 5.6, 5.8, 6.1, 6.4, 5.6, 5.1, 5.6, 6.1, 5.6, 5.5, 4.8, 5.4, 5.6, 5.1, 5.1, 5.9, 5.7, 5.2, 5.0, 5.2, 5.4, 5.1]\n",
      "PetalWidth= [0.2, 0.2, 0.2, 0.2, 0.2, 0.4, 0.3, 0.2, 0.2, 0.1, 0.2, 0.2, 0.1, 0.1, 0.2, 0.4, 0.4, 0.3, 0.3, 0.3, 0.2, 0.4, 0.2, 0.5, 0.2, 0.2, 0.4, 0.2, 0.2, 0.2, 0.2, 0.4, 0.1, 0.2, 0.1, 0.2, 0.2, 0.1, 0.2, 0.2, 0.3, 0.3, 0.2, 0.6, 0.4, 0.3, 0.2, 0.2, 0.2, 0.2, 1.4, 1.5, 1.5, 1.3, 1.5, 1.3, 1.6, 1.0, 1.3, 1.4, 1.0, 1.5, 1.0, 1.4, 1.3, 1.4, 1.5, 1.0, 1.5, 1.1, 1.8, 1.3, 1.5, 1.2, 1.3, 1.4, 1.4, 1.7, 1.5, 1.0, 1.1, 1.0, 1.2, 1.6, 1.5, 1.6, 1.5, 1.3, 1.3, 1.3, 1.2, 1.4, 1.2, 1.0, 1.3, 1.2, 1.3, 1.3, 1.1, 1.3, 2.5, 1.9, 2.1, 1.8, 2.2, 2.1, 1.7, 1.8, 1.8, 2.5, 2.0, 1.9, 2.1, 2.0, 2.4, 2.3, 1.8, 2.2, 2.3, 1.5, 2.3, 2.0, 2.0, 1.8, 2.1, 1.8, 1.8, 1.8, 2.1, 1.6, 1.9, 2.0, 2.2, 1.5, 1.4, 2.3, 2.4, 1.8, 1.8, 2.1, 2.4, 2.3, 1.9, 2.3, 2.5, 2.3, 1.9, 2.0, 2.3, 1.8]\n"
     ]
    }
   ],
   "source": [
    "#Code for generating data....\n",
    "datalist=[] #create an empty list\n",
    "# data list is a list of two elements, where index=0 contains data corresponding to petal \n",
    "# length and index=1 contains data corresponding to petal width\n",
    "datalist.append(list(data['PetalLengthCm'].dropna()))\n",
    "datalist.append(list(data['PetalWidthCm'].dropna()))\n",
    "datalist.append(list(data['SepalLengthCm'].dropna()))\n",
    "datalist.append(list(data['SepalWidthCm'].dropna()))\n",
    "\n",
    "#If you want you build a numpy array from this list.\n",
    "\n",
    "print (\"PetalLength=\", datalist[0])\n",
    "print (\"PetalWidth=\", datalist[1])\n",
    "\n",
    "#This and above code are both same...\n",
    "# datalist=[0]*2#create a list of 2 elements\n",
    "# datalist[0]=(list(data['PetalLength'].dropna()))\n",
    "# datalist[1]=(list(data['PetalWidth'].dropna()))\n",
    "#data list is a list of two elements, where index=0 contains data corresponding to petal \n",
    "# length and index=1 contains data corresponding to petal width\n",
    "# print(\"PetalLength=\", datalist[0])\n",
    "# print(\"PetalWidth=\", datalist[1])"
   ]
  },
  {
   "cell_type": "markdown",
   "metadata": {},
   "source": [
    "*In all the tasks given below use the list variable `datalist` (defined above) to answer all the questions.*\n",
    "\n",
    "#### Task1\n",
    "----------------\n",
    "Lets model the petal length and width as continuous random variable $X=(x_1,x_2)$. Find the mean of this random variable. Here $x_1$ specifies the petal length and $x_2$ its width."
   ]
  },
  {
   "cell_type": "code",
   "execution_count": 127,
   "metadata": {
    "run_control": {
     "breakpoint": false
    }
   },
   "outputs": [
    {
     "name": "stdout",
     "output_type": "stream",
     "text": [
      "Mean of Petal Length (x_1): 3.758666666666666\n",
      "Mean of Petal Width (x_2): 1.1986666666666668\n"
     ]
    }
   ],
   "source": [
    "#Write your code here\n",
    "import numpy as np\n",
    "def calculate_mean(petal_length, petal_width):\n",
    "\n",
    "    array1 = np.array(petal_length)\n",
    "    array2 = np.array(petal_width)\n",
    "    mean1 = array1.mean()\n",
    "    mean2 = array2.mean()\n",
    "    return mean1 , mean2\n",
    "    \n",
    "\n",
    "mean_petal_length, mean_petal_width = calculate_mean(datalist[0], datalist[1])\n",
    "print(f\"Mean of Petal Length (x_1): {mean_petal_length}\")\n",
    "print(f\"Mean of Petal Width (x_2): {mean_petal_width}\")\n"
   ]
  },
  {
   "cell_type": "markdown",
   "metadata": {},
   "source": [
    "#### Task2\n",
    "----------------\n",
    "Compute the covariance matrix $X$ using outper product formula, i.e. $\\Sigma=\\frac{1}{n}Z^T\\;Z$, where $Z$ is centered data matrix (mean = 0)"
   ]
  },
  {
   "cell_type": "code",
   "execution_count": 128,
   "metadata": {
    "run_control": {
     "breakpoint": false
    }
   },
   "outputs": [
    {
     "name": "stdout",
     "output_type": "stream",
     "text": [
      "Covariance matrix is:\n",
      "[[3.09242489 1.28774489]\n",
      " [1.28774489 0.57853156]]\n"
     ]
    }
   ],
   "source": [
    "import numpy as np\n",
    "\n",
    "def covariance_matrix(data1, data2):\n",
    "    array1 = np.array(data1)\n",
    "    array2 = np.array(data2)\n",
    "    \n",
    "    mean1 = np.mean(array1)\n",
    "    mean2 = np.mean(array2)\n",
    "\n",
    "    z1 = array1 - mean1\n",
    "    z2 = array2 - mean2\n",
    "\n",
    "    Z = np.array([z1, z2])\n",
    "\n",
    "    covariance_matrix = np.dot(Z, Z.T) / len(array1)\n",
    "    \n",
    "    return covariance_matrix\n",
    "\n",
    "cov_matrix = covariance_matrix(datalist[0], datalist[1])\n",
    "\n",
    "print(f\"Covariance matrix is:\\n{cov_matrix}\")\n"
   ]
  },
  {
   "cell_type": "markdown",
   "metadata": {},
   "source": [
    "#### Task3: Multivariate Gaussian\n",
    "----------------\n",
    "Let's model $X$ with multivariate Gaussian. Find the probability of having flowers with petal width and height in the following range $P(3.5 < x_1 < 3.7,5.5 < x_2 <5.6)$.\n",
    "Recall that \n",
    "$$f_{\\mathbf x}(x_1,\\ldots,x_k) = \\frac{1}{\\sqrt{(2\\pi)^k|\\boldsymbol\\Sigma|}} \\exp\\left(-\\frac{1}{2}({\\mathbf x}-{\\boldsymbol\\mu})^\\mathrm{T}{\\boldsymbol\\Sigma}^{-1}({\\mathbf x}-{\\boldsymbol\\mu}) \\right)$$\n",
    "\n",
    "where ${\\mathbf x}$ is a real k-dimensional column vector and $|\\boldsymbol\\Sigma|$ is the determinant of $\\boldsymbol\\Sigma$. For our this case $k=2$ "
   ]
  },
  {
   "cell_type": "code",
   "execution_count": 129,
   "metadata": {
    "run_control": {
     "breakpoint": false
    }
   },
   "outputs": [
    {
     "ename": "SyntaxError",
     "evalue": "cannot assign to expression (449910521.py, line 4)",
     "output_type": "error",
     "traceback": [
      "\u001b[1;36m  Cell \u001b[1;32mIn[129], line 4\u001b[1;36m\u001b[0m\n\u001b[1;33m    determinant = cov_matrix[0][0] * cov_matrix[1][1] = cov_matrix[0][1] * cov_matrix[1][0]\u001b[0m\n\u001b[1;37m                  ^\u001b[0m\n\u001b[1;31mSyntaxError\u001b[0m\u001b[1;31m:\u001b[0m cannot assign to expression\n"
     ]
    }
   ],
   "source": [
    "#Write your code here, you are not allowed to use scipy and numpy function here... \n",
    "\n",
    "\n",
    "determinant = cov_matrix[0][0] * cov_matrix[1][1] = cov_matrix[0][1] * cov_matrix[1][0]\n",
    "\n",
    "inverse = [[cov_matrix[1][1] / determinant , -cov_matrix[0][1] / determinant],\n",
    "           [-cov_matrix[1][0] / determinant , cov_matrix[0][0] / determinant]\n",
    "           ]    \n",
    "\n",
    "\n",
    "\n",
    "\n",
    "def multivariate_gaussian():\n",
    "    pass\n",
    "\n",
    "\n",
    "multivariate_gaussian()\n"
   ]
  },
  {
   "cell_type": "code",
   "execution_count": 103,
   "metadata": {},
   "outputs": [],
   "source": [
    "#Now go and use the function to find the pdf value and compares these newly computed value\n",
    "#with the earlier value and compute the difference..."
   ]
  },
  {
   "cell_type": "markdown",
   "metadata": {},
   "source": [
    "#### Task4: Multivariate Gaussian\n",
    "\n",
    "Now consider that both the attributes are statistically independent and normally distributed then what will be the probability of $P(3.5 < x_1 < 3.7,5.5 < x_2 <5.6)$\n"
   ]
  },
  {
   "cell_type": "code",
   "execution_count": null,
   "metadata": {
    "run_control": {
     "breakpoint": false
    }
   },
   "outputs": [],
   "source": []
  },
  {
   "cell_type": "markdown",
   "metadata": {},
   "source": [
    "#### Task5: Categorical Random Variables.\n",
    "----------------\n",
    "Lets categorize the petal length variable to four categories, i.e very short $\\in[1,1.6]$, short $\\in(1.6,4.4]$, long $\\in(4.4,5.1]$, very long $\\in(5.1,6.9]$ and model this varible using random variable $x$\n",
    "\n",
    "Find the probability of this cateogrical random variable."
   ]
  },
  {
   "cell_type": "code",
   "execution_count": 130,
   "metadata": {
    "run_control": {
     "breakpoint": false
    }
   },
   "outputs": [
    {
     "name": "stdout",
     "output_type": "stream",
     "text": [
      "Probability of very short is 0.29333333333333333\n",
      "Probability of short is 0.23333333333333334\n",
      "Probability of long is 0.24666666666666667\n",
      "Probability of very long is 0.22666666666666666\n"
     ]
    }
   ],
   "source": [
    "#Write your code here\n",
    "def categorical_random_prob(feature):\n",
    "    n = len(feature)\n",
    "\n",
    "    count_vs = 0\n",
    "    count_s = 0\n",
    "    count_l = 0\n",
    "    count_vl = 0\n",
    "    for i in feature:\n",
    "        if i >= 1 and i <= 1.6:\n",
    "            count_vs +=1\n",
    "        if i >1.6 and i <= 4.4:\n",
    "            count_s +=1\n",
    "        if i >4.4 and i <= 5.1:\n",
    "            count_l +=1\n",
    "        if i >5.1 and i <= 6.9:\n",
    "            count_vl +=1\n",
    "\n",
    "    return count_vs/n , count_s/n , count_l/n , count_vl/n\n",
    "\n",
    "\n",
    "\n",
    "very_short , short , long , very_long = categorical_random_prob(datalist[0])\n",
    "\n",
    "print(f\"Probability of very short is {very_short}\")\n",
    "print(f\"Probability of short is {short}\")\n",
    "print(f\"Probability of long is {long}\")\n",
    "print(f\"Probability of very long is {very_long}\")\n"
   ]
  },
  {
   "cell_type": "markdown",
   "metadata": {},
   "source": [
    "#### Task6: Categorical Random Variables.\n",
    "Find the mean and covariance matrix of categorical variable $x$."
   ]
  },
  {
   "cell_type": "code",
   "execution_count": 131,
   "metadata": {
    "run_control": {
     "breakpoint": false
    }
   },
   "outputs": [
    {
     "name": "stdout",
     "output_type": "stream",
     "text": [
      "[0.29333333 0.23333333 0.24666667 0.22666667]\n"
     ]
    },
    {
     "data": {
      "text/plain": [
       "array([[ 0.20728889, -0.06844444, -0.07235556, -0.06648889],\n",
       "       [-0.06844444,  0.17888889, -0.05755556, -0.05288889],\n",
       "       [-0.07235556, -0.05755556,  0.18582222, -0.05591111],\n",
       "       [-0.06648889, -0.05288889, -0.05591111,  0.17528889]])"
      ]
     },
     "execution_count": 131,
     "metadata": {},
     "output_type": "execute_result"
    }
   ],
   "source": [
    "#Write your code here\n",
    "def categorize(data):\n",
    "    encoding = []\n",
    "    for i in data:\n",
    "        if 1 <= i <= 1.6:\n",
    "            encoding.append([1, 0, 0, 0])  # Very short\n",
    "        elif 1.6 < i <= 4.4:\n",
    "            encoding.append([0, 1, 0, 0])  # Short\n",
    "        elif 4.4 < i <= 5.1:\n",
    "            encoding.append([0, 0, 1, 0])  # Long\n",
    "        elif 5.1 < i <= 6.9:\n",
    "            encoding.append([0, 0, 0, 1])  # Very long\n",
    "    return np.array(encoding)\n",
    "\n",
    "def calculate_mean(categorical_data):\n",
    "    return np.mean(categorical_data, axis=0)\n",
    "\n",
    "\n",
    "def calculate_covariance(one_hot_data , mean_vector):\n",
    "    centered_data = one_hot_data - mean_vector\n",
    "    return np.dot(centered_data.T, centered_data) / len(one_hot_data)\n",
    "   \n",
    "\n",
    "categorical_data = categorize(datalist[0])\n",
    "\n",
    "mean_vector = calculate_mean(categorical_data)\n",
    "print(mean_vector)\n",
    "covariance_matrix = calculate_covariance(categorical_data , mean_vector)\n",
    "covariance_matrix"
   ]
  },
  {
   "cell_type": "markdown",
   "metadata": {},
   "source": [
    "#### Task7: Categorical Random Variables.\n",
    "\n",
    "If we select 10 random flowers what will be the probability of picking 3 very short length, 2 short length, 4 long length and 1 very long petal length flowers."
   ]
  },
  {
   "cell_type": "code",
   "execution_count": 132,
   "metadata": {
    "run_control": {
     "breakpoint": false
    }
   },
   "outputs": [
    {
     "name": "stdout",
     "output_type": "stream",
     "text": [
      "Probability: 0.014529072337116129\n"
     ]
    }
   ],
   "source": [
    "def factorial(n):\n",
    "    if n == 0 or n == 1:\n",
    "        return 1\n",
    "    else:\n",
    "        return n * factorial(n - 1)\n",
    "    \n",
    "\n",
    "# Number of flowers selected from each category\n",
    "k_very_short = 3\n",
    "k_short = 2\n",
    "k_long = 4\n",
    "k_very_long = 1\n",
    "\n",
    "# total flowers\n",
    "n = 10\n",
    "\n",
    "\n",
    "term1 = factorial(n) / (factorial(k_very_short) * factorial(k_short) * factorial(k_long) * factorial(k_very_long))\n",
    "\n",
    "# Step 2: Calculate the probability for this specific selection\n",
    "multivariate_prob = term1 * (pow(very_short, k_very_short) * pow(short, k_short) * pow(long, k_long) * pow(very_long, k_very_long))\n",
    "\n",
    "# Print the result\n",
    "print(f\"Probability: {multivariate_prob}\")\n"
   ]
  },
  {
   "cell_type": "markdown",
   "metadata": {},
   "source": [
    "#### Task8: Bivariate Categorical Random Variables.\n",
    "----------------\n",
    "Lets also categorize the petal width variable to three categories, i.e short $\\in[0.1,1.0]$, medium  $\\in(1.0,1.75)$, long $\\in(1.75,2.5]$.\n",
    "\n",
    "Now lets model both the petal length and width as bivariate categorical random variable $X$.\n",
    "Find the probability for following cases.\n",
    "\n",
    "$$p(x_1=[1000], x_2=[000])$$\n",
    "$$p(x_1=[1000], x_2=[001])$$\n",
    "\n",
    "$$p(x_1=[0010], x_2=[010])$$\n",
    "$$p(x_1=[0001], x_2=[100])$$\n"
   ]
  },
  {
   "cell_type": "code",
   "execution_count": 133,
   "metadata": {
    "run_control": {
     "breakpoint": false
    }
   },
   "outputs": [
    {
     "name": "stdout",
     "output_type": "stream",
     "text": [
      "Probability of short petal width 0.38\n",
      "Probability of medium petal width 0.31333333333333335\n",
      "Probability of long petal width 0.30666666666666664\n"
     ]
    }
   ],
   "source": [
    "#Write your code here\n",
    "\n",
    "# for petal width\n",
    "        \n",
    "def categorizing_PW(feature):\n",
    "\n",
    "    PW_short = 0\n",
    "    PW_long = 0\n",
    "    PW_medium = 0\n",
    "    n = len(feature)\n",
    "\n",
    "    for i in feature:\n",
    "        if (i>=0.1 and i<=1.0):\n",
    "            PW_short+=1\n",
    "        elif (i>1.0 and i<=1.75):\n",
    "            PW_medium+=1\n",
    "        elif (i>1.75 and i<=2.5):\n",
    "            PW_long+=1\n",
    "\n",
    "\n",
    "    return PW_short/n , PW_medium/n , PW_long/n\n",
    "\n",
    "\n",
    "Prob_PW_short , Prob_PW_Medium , Prob_PW_long = categorizing_PW(datalist[1])\n",
    "\n",
    "print(f\"Probability of short petal width {Prob_PW_short}\")\n",
    "print(f\"Probability of medium petal width {Prob_PW_Medium}\")\n",
    "print(f\"Probability of long petal width {Prob_PW_long}\")"
   ]
  },
  {
   "cell_type": "code",
   "execution_count": 134,
   "metadata": {},
   "outputs": [
    {
     "name": "stdout",
     "output_type": "stream",
     "text": [
      "Probability of case [1000] and [000] 0.29333333333333333\n",
      "Probability of case [1000] and [001] 0.08995555555555555\n",
      "Probability of case [0010] and [010] 0.0772888888888889\n",
      "Probability of case [0001] and [100] 0.08613333333333333\n"
     ]
    }
   ],
   "source": [
    "# Now to model both petal length and width\n",
    "\n",
    "# since we have already the petal length and wdth\n",
    "\n",
    "\n",
    "case1 = very_short  # [1000] and [000]\n",
    "case2 = very_short * Prob_PW_long # [1000] and [001]\n",
    "case3 = long * Prob_PW_Medium # [0010] and [010]\n",
    "case4 = very_long * Prob_PW_short #[0001] and [100]\n",
    "\n",
    "\n",
    "print(f\"Probability of case [1000] and [000] {case1}\")\n",
    "print(f\"Probability of case [1000] and [001] {case2}\")\n",
    "print(f\"Probability of case [0010] and [010] {case3}\")\n",
    "print(f\"Probability of case [0001] and [100] {case4}\")"
   ]
  },
  {
   "cell_type": "markdown",
   "metadata": {},
   "source": [
    "#### Task9: Normalization\n",
    "----------------\n",
    "Normalize both the attributes (petal length and petal width) such that after normalization their values must lie in the interval [-2, 5]"
   ]
  },
  {
   "cell_type": "code",
   "execution_count": 135,
   "metadata": {
    "run_control": {
     "breakpoint": false
    }
   },
   "outputs": [
    {
     "name": "stdout",
     "output_type": "stream",
     "text": [
      "The standard normalization of Petal length is [-1.52542373 -1.52542373 -1.6440678  -1.40677966 -1.52542373 -1.16949153\n",
      " -1.52542373 -1.40677966 -1.52542373 -1.40677966 -1.40677966 -1.28813559\n",
      " -1.52542373 -1.88135593 -1.76271186 -1.40677966 -1.6440678  -1.52542373\n",
      " -1.16949153 -1.40677966 -1.16949153 -1.40677966 -2.         -1.16949153\n",
      " -0.93220339 -1.28813559 -1.28813559 -1.40677966 -1.52542373 -1.28813559\n",
      " -1.28813559 -1.40677966 -1.40677966 -1.52542373 -1.40677966 -1.76271186\n",
      " -1.6440678  -1.40677966 -1.6440678  -1.40677966 -1.6440678  -1.6440678\n",
      " -1.6440678  -1.28813559 -0.93220339 -1.52542373 -1.28813559 -1.52542373\n",
      " -1.40677966 -1.52542373  2.38983051  2.15254237  2.62711864  1.55932203\n",
      "  2.27118644  2.15254237  2.38983051  0.72881356  2.27118644  1.44067797\n",
      "  0.96610169  1.79661017  1.55932203  2.38983051  1.08474576  2.03389831\n",
      "  2.15254237  1.6779661   2.15254237  1.44067797  2.50847458  1.55932203\n",
      "  2.62711864  2.38983051  1.91525424  2.03389831  2.50847458  2.74576271\n",
      "  2.15254237  0.96610169  1.3220339   1.20338983  1.44067797  2.86440678\n",
      "  2.15254237  2.15254237  2.38983051  2.03389831  1.6779661   1.55932203\n",
      "  2.03389831  2.27118644  1.55932203  0.72881356  1.79661017  1.79661017\n",
      "  1.79661017  1.91525424  0.37288136  1.6779661   3.93220339  2.86440678\n",
      "  3.81355932  3.45762712  3.69491525  4.6440678   2.15254237  4.28813559\n",
      "  3.69491525  4.05084746  2.86440678  3.10169492  3.33898305  2.74576271\n",
      "  2.86440678  3.10169492  3.33898305  4.76271186  5.          2.74576271\n",
      "  3.57627119  2.62711864  4.76271186  2.62711864  3.57627119  3.93220339\n",
      "  2.50847458  2.62711864  3.45762712  3.69491525  4.05084746  4.40677966\n",
      "  3.45762712  2.86440678  3.45762712  4.05084746  3.45762712  3.33898305\n",
      "  2.50847458  3.22033898  3.45762712  2.86440678  2.86440678  3.81355932\n",
      "  3.57627119  2.98305085  2.74576271  2.98305085  3.22033898  2.86440678]\n",
      "The standard normalization of Petal Width is [-1.70833333 -1.70833333 -1.70833333 -1.70833333 -1.70833333 -1.125\n",
      " -1.41666667 -1.70833333 -1.70833333 -2.         -1.70833333 -1.70833333\n",
      " -2.         -2.         -1.70833333 -1.125      -1.125      -1.41666667\n",
      " -1.41666667 -1.41666667 -1.70833333 -1.125      -1.70833333 -0.83333333\n",
      " -1.70833333 -1.70833333 -1.125      -1.70833333 -1.70833333 -1.70833333\n",
      " -1.70833333 -1.125      -2.         -1.70833333 -2.         -1.70833333\n",
      " -1.70833333 -2.         -1.70833333 -1.70833333 -1.41666667 -1.41666667\n",
      " -1.70833333 -0.54166667 -1.125      -1.41666667 -1.70833333 -1.70833333\n",
      " -1.70833333 -1.70833333  1.79166667  2.08333333  2.08333333  1.5\n",
      "  2.08333333  1.5         2.375       0.625       1.5         1.79166667\n",
      "  0.625       2.08333333  0.625       1.79166667  1.5         1.79166667\n",
      "  2.08333333  0.625       2.08333333  0.91666667  2.95833333  1.5\n",
      "  2.08333333  1.20833333  1.5         1.79166667  1.79166667  2.66666667\n",
      "  2.08333333  0.625       0.91666667  0.625       1.20833333  2.375\n",
      "  2.08333333  2.375       2.08333333  1.5         1.5         1.5\n",
      "  1.20833333  1.79166667  1.20833333  0.625       1.5         1.20833333\n",
      "  1.5         1.5         0.91666667  1.5         5.          3.25\n",
      "  3.83333333  2.95833333  4.125       3.83333333  2.66666667  2.95833333\n",
      "  2.95833333  5.          3.54166667  3.25        3.83333333  3.54166667\n",
      "  4.70833333  4.41666667  2.95833333  4.125       4.41666667  2.08333333\n",
      "  4.41666667  3.54166667  3.54166667  2.95833333  3.83333333  2.95833333\n",
      "  2.95833333  2.95833333  3.83333333  2.375       3.25        3.54166667\n",
      "  4.125       2.08333333  1.79166667  4.41666667  4.70833333  2.95833333\n",
      "  2.95833333  3.83333333  4.70833333  4.41666667  3.25        4.41666667\n",
      "  5.          4.41666667  3.25        3.54166667  4.41666667  2.95833333]\n"
     ]
    }
   ],
   "source": [
    "#Write your code here\n",
    "def StandardNormalization(feature):\n",
    "    minimum = min(feature)\n",
    "    maximum = max(feature)\n",
    "    nparray = np.array(feature)\n",
    "\n",
    "    # subtract from minimum\n",
    "    newarray = nparray - minimum\n",
    "    range1 = maximum - minimum\n",
    "    # normalize value between range 0 and 1\n",
    "    newarray2 = newarray / range1\n",
    "    # now to normalize value between -2 and 5\n",
    "    range2 = 5 - (-2)\n",
    "    scaled_array = (newarray2 * range2)-2\n",
    "    \n",
    "    return scaled_array\n",
    "\n",
    "\n",
    "PL_Normalize = StandardNormalization(datalist[0])\n",
    "PW_Normalize = StandardNormalization(datalist[1])\n",
    "\n",
    "\n",
    "\n",
    "\n",
    "print(f\"The standard normalization of Petal length is {PL_Normalize}\")\n",
    "print(f\"The standard normalization of Petal Width is {PW_Normalize}\")"
   ]
  },
  {
   "cell_type": "markdown",
   "metadata": {},
   "source": [
    "#### Task10: Class wise mean vector and covariance matrix...\n",
    "Iris dataset have three different classes, now go and compute the class-wise (setosa, versicolor and virginica) mean vector and covariance matrix."
   ]
  },
  {
   "cell_type": "code",
   "execution_count": 136,
   "metadata": {
    "collapsed": true
   },
   "outputs": [
    {
     "name": "stdout",
     "output_type": "stream",
     "text": [
      "Mean of Setosa class: [5.006 3.418 1.464 0.244]\n",
      "Mean of Versicolor class: [5.936 2.77  4.26  1.326]\n",
      "Mean of Virginica class: [6.588 2.974 5.552 2.026]\n",
      "Co-variance of setosa matrix is [[0.12424898 0.10029796 0.01613878 0.01054694]\n",
      " [0.10029796 0.14517959 0.01168163 0.01143673]\n",
      " [0.01613878 0.01168163 0.03010612 0.00569796]\n",
      " [0.01054694 0.01143673 0.00569796 0.01149388]]\n",
      "Co-variance of versicolor matrix is [[0.26643265 0.08518367 0.18289796 0.05577959]\n",
      " [0.08518367 0.09846939 0.08265306 0.04120408]\n",
      " [0.18289796 0.08265306 0.22081633 0.07310204]\n",
      " [0.05577959 0.04120408 0.07310204 0.03910612]]\n",
      "Co-variance of virginica matrix is [[0.40434286 0.09376327 0.3032898  0.04909388]\n",
      " [0.09376327 0.10400408 0.07137959 0.04762857]\n",
      " [0.3032898  0.07137959 0.30458776 0.04882449]\n",
      " [0.04909388 0.04762857 0.04882449 0.07543265]]\n"
     ]
    }
   ],
   "source": [
    "import numpy as np\n",
    "\n",
    "def classify(df):\n",
    "    \n",
    "    setosa = df[df['Species'] == 'Iris-setosa'].iloc[:, 1:-1].values # selects columns for features only (excluding the first column with ids and the last column with species labels).\n",
    "    versicolor = df[df['Species'] == 'Iris-versicolor'].iloc[:, 1:-1].values\n",
    "    virginica = df[df['Species'] == 'Iris-virginica'].iloc[:, 1:-1].values\n",
    "\n",
    "    return setosa, versicolor, virginica\n",
    "\n",
    "\n",
    "def classesmean(setosa, versicolor, virginica):\n",
    "    setosa_mean = np.mean(setosa, axis=0)\n",
    "    versicolor_mean = np.mean(versicolor, axis=0)\n",
    "    virginica_mean = np.mean(virginica, axis=0)\n",
    "    \n",
    "    return setosa_mean, versicolor_mean, virginica_mean\n",
    "\n",
    "\n",
    "def covariance_matrix(data):\n",
    "    return np.cov(data , rowvar=False)\n",
    "\n",
    "setosa, versicolor, virginica = classify(data)\n",
    "\n",
    "mean_setosa, mean_versicolor, mean_virginica = classesmean(setosa, versicolor, virginica)\n",
    "\n",
    "\n",
    "print(f\"Mean of Setosa class: {mean_setosa}\")\n",
    "print(f\"Mean of Versicolor class: {mean_versicolor}\")\n",
    "print(f\"Mean of Virginica class: {mean_virginica}\")\n",
    "\n",
    "covariance_setosa = covariance_matrix(setosa)\n",
    "covariance_versicolor = covariance_matrix(versicolor)\n",
    "covariance_virginica = covariance_matrix(virginica)\n",
    "\n",
    "print(f\"Co-variance of setosa matrix is {covariance_setosa}\")\n",
    "print(f\"Co-variance of versicolor matrix is {covariance_versicolor}\")\n",
    "print(f\"Co-variance of virginica matrix is {covariance_virginica}\")"
   ]
  },
  {
   "cell_type": "code",
   "execution_count": null,
   "metadata": {},
   "outputs": [],
   "source": []
  },
  {
   "cell_type": "code",
   "execution_count": null,
   "metadata": {},
   "outputs": [],
   "source": []
  },
  {
   "cell_type": "markdown",
   "metadata": {},
   "source": [
    "#### Task11: Caclulating the Probability of a flower belonging to a particular class\n",
    "Using above information, lets model each class to be modeled by continuous multivariate Gaussian Random varible. Now we have recorded a flower with following attributes (sepal lenght=4, petal length=6, sepal width=4, sepal length=5.5) in the field, which class it belongs. "
   ]
  },
  {
   "cell_type": "code",
   "execution_count": 49,
   "metadata": {
    "collapsed": true
   },
   "outputs": [
    {
     "name": "stderr",
     "output_type": "stream",
     "text": [
      "<>:8: SyntaxWarning: 'int' object is not callable; perhaps you missed a comma?\n",
      "<>:8: SyntaxWarning: 'int' object is not callable; perhaps you missed a comma?\n",
      "C:\\Users\\muham\\AppData\\Local\\Temp\\ipykernel_15452\\505551434.py:8: SyntaxWarning: 'int' object is not callable; perhaps you missed a comma?\n",
      "  exponent = -1/2(np.transpose(data-mean)) * cov_inv * (data - mean)\n"
     ]
    },
    {
     "ename": "LinAlgError",
     "evalue": "Singular matrix",
     "output_type": "error",
     "traceback": [
      "\u001b[1;31m---------------------------------------------------------------------------\u001b[0m",
      "\u001b[1;31mLinAlgError\u001b[0m                               Traceback (most recent call last)",
      "Cell \u001b[1;32mIn[49], line 15\u001b[0m\n\u001b[0;32m     12\u001b[0m attributes \u001b[38;5;241m=\u001b[39m np\u001b[38;5;241m.\u001b[39marray([\u001b[38;5;241m4.0\u001b[39m , \u001b[38;5;241m6.0\u001b[39m , \u001b[38;5;241m4\u001b[39m , \u001b[38;5;241m5.5\u001b[39m])\n\u001b[0;32m     14\u001b[0m \u001b[38;5;66;03m# Calculate the probability of the flower for each class\u001b[39;00m\n\u001b[1;32m---> 15\u001b[0m prob_setosa \u001b[38;5;241m=\u001b[39m \u001b[43mmultivariate_gaussian_pdf\u001b[49m\u001b[43m(\u001b[49m\u001b[43mattributes\u001b[49m\u001b[43m,\u001b[49m\u001b[43m \u001b[49m\u001b[43mmean_setosa\u001b[49m\u001b[43m,\u001b[49m\u001b[43m \u001b[49m\u001b[43mcovariance_setosa\u001b[49m\u001b[43m)\u001b[49m\n\u001b[0;32m     16\u001b[0m prob_versicolor \u001b[38;5;241m=\u001b[39m multivariate_gaussian_pdf(attributes, mean_versicolor, covariance_versicolor)\n\u001b[0;32m     17\u001b[0m prob_virginica \u001b[38;5;241m=\u001b[39m multivariate_gaussian_pdf(attributes, mean_virginica, covariance_virginica)\n",
      "Cell \u001b[1;32mIn[49], line 5\u001b[0m, in \u001b[0;36mmultivariate_gaussian_pdf\u001b[1;34m(data, mean, covariance)\u001b[0m\n\u001b[0;32m      3\u001b[0m \u001b[38;5;28;01mdef\u001b[39;00m \u001b[38;5;21mmultivariate_gaussian_pdf\u001b[39m(data , mean , covariance):\n\u001b[0;32m      4\u001b[0m     length \u001b[38;5;241m=\u001b[39m \u001b[38;5;28mlen\u001b[39m(data)\n\u001b[1;32m----> 5\u001b[0m     cov_inv \u001b[38;5;241m=\u001b[39m \u001b[43mnp\u001b[49m\u001b[38;5;241;43m.\u001b[39;49m\u001b[43mlinalg\u001b[49m\u001b[38;5;241;43m.\u001b[39;49m\u001b[43minv\u001b[49m\u001b[43m(\u001b[49m\u001b[43mcovariance\u001b[49m\u001b[43m)\u001b[49m\n\u001b[0;32m      6\u001b[0m     cov_det \u001b[38;5;241m=\u001b[39m np\u001b[38;5;241m.\u001b[39mlinalg\u001b[38;5;241m.\u001b[39mdet(covariance)\n\u001b[0;32m      8\u001b[0m     exponent \u001b[38;5;241m=\u001b[39m \u001b[38;5;241m-\u001b[39m\u001b[38;5;241m1\u001b[39m\u001b[38;5;241m/\u001b[39m\u001b[38;5;241m2\u001b[39m(np\u001b[38;5;241m.\u001b[39mtranspose(data\u001b[38;5;241m-\u001b[39mmean)) \u001b[38;5;241m*\u001b[39m cov_inv \u001b[38;5;241m*\u001b[39m (data \u001b[38;5;241m-\u001b[39m mean)\n",
      "File \u001b[1;32m~\\AppData\\Local\\Packages\\PythonSoftwareFoundation.Python.3.11_qbz5n2kfra8p0\\LocalCache\\local-packages\\Python311\\site-packages\\numpy\\linalg\\_linalg.py:615\u001b[0m, in \u001b[0;36minv\u001b[1;34m(a)\u001b[0m\n\u001b[0;32m    612\u001b[0m signature \u001b[38;5;241m=\u001b[39m \u001b[38;5;124m'\u001b[39m\u001b[38;5;124mD->D\u001b[39m\u001b[38;5;124m'\u001b[39m \u001b[38;5;28;01mif\u001b[39;00m isComplexType(t) \u001b[38;5;28;01melse\u001b[39;00m \u001b[38;5;124m'\u001b[39m\u001b[38;5;124md->d\u001b[39m\u001b[38;5;124m'\u001b[39m\n\u001b[0;32m    613\u001b[0m \u001b[38;5;28;01mwith\u001b[39;00m errstate(call\u001b[38;5;241m=\u001b[39m_raise_linalgerror_singular, invalid\u001b[38;5;241m=\u001b[39m\u001b[38;5;124m'\u001b[39m\u001b[38;5;124mcall\u001b[39m\u001b[38;5;124m'\u001b[39m,\n\u001b[0;32m    614\u001b[0m               over\u001b[38;5;241m=\u001b[39m\u001b[38;5;124m'\u001b[39m\u001b[38;5;124mignore\u001b[39m\u001b[38;5;124m'\u001b[39m, divide\u001b[38;5;241m=\u001b[39m\u001b[38;5;124m'\u001b[39m\u001b[38;5;124mignore\u001b[39m\u001b[38;5;124m'\u001b[39m, under\u001b[38;5;241m=\u001b[39m\u001b[38;5;124m'\u001b[39m\u001b[38;5;124mignore\u001b[39m\u001b[38;5;124m'\u001b[39m):\n\u001b[1;32m--> 615\u001b[0m     ainv \u001b[38;5;241m=\u001b[39m \u001b[43m_umath_linalg\u001b[49m\u001b[38;5;241;43m.\u001b[39;49m\u001b[43minv\u001b[49m\u001b[43m(\u001b[49m\u001b[43ma\u001b[49m\u001b[43m,\u001b[49m\u001b[43m \u001b[49m\u001b[43msignature\u001b[49m\u001b[38;5;241;43m=\u001b[39;49m\u001b[43msignature\u001b[49m\u001b[43m)\u001b[49m\n\u001b[0;32m    616\u001b[0m \u001b[38;5;28;01mreturn\u001b[39;00m wrap(ainv\u001b[38;5;241m.\u001b[39mastype(result_t, copy\u001b[38;5;241m=\u001b[39m\u001b[38;5;28;01mFalse\u001b[39;00m))\n",
      "File \u001b[1;32m~\\AppData\\Local\\Packages\\PythonSoftwareFoundation.Python.3.11_qbz5n2kfra8p0\\LocalCache\\local-packages\\Python311\\site-packages\\numpy\\linalg\\_linalg.py:104\u001b[0m, in \u001b[0;36m_raise_linalgerror_singular\u001b[1;34m(err, flag)\u001b[0m\n\u001b[0;32m    103\u001b[0m \u001b[38;5;28;01mdef\u001b[39;00m \u001b[38;5;21m_raise_linalgerror_singular\u001b[39m(err, flag):\n\u001b[1;32m--> 104\u001b[0m     \u001b[38;5;28;01mraise\u001b[39;00m LinAlgError(\u001b[38;5;124m\"\u001b[39m\u001b[38;5;124mSingular matrix\u001b[39m\u001b[38;5;124m\"\u001b[39m)\n",
      "\u001b[1;31mLinAlgError\u001b[0m: Singular matrix"
     ]
    }
   ],
   "source": [
    "#Write your code here\n",
    "\n",
    "def multivariate_gaussian_pdf(data , mean , covariance):\n",
    "    length = len(data)\n",
    "    cov_inv = np.linalg.inv(covariance)\n",
    "    cov_det = np.linalg.det(covariance)\n",
    "\n",
    "    exponent = -1/2(np.transpose(data-mean)) * cov_inv * (data - mean)\n",
    "    denominator = 1/np.sqrt((2*3.14)**length**cov_det)\n",
    "    return (1/denominator)*np.exp(exponent)\n",
    "\n",
    "attributes = np.array([4.0 , 6.0 , 4 , 5.5])\n",
    "\n",
    "# Calculate the probability of the flower for each class\n",
    "prob_setosa = multivariate_gaussian_pdf(attributes, mean_setosa, covariance_setosa)\n",
    "prob_versicolor = multivariate_gaussian_pdf(attributes, mean_versicolor, covariance_versicolor)\n",
    "prob_virginica = multivariate_gaussian_pdf(attributes, mean_virginica, covariance_virginica)"
   ]
  },
  {
   "cell_type": "markdown",
   "metadata": {},
   "source": [
    "\n",
    "#### Task12:  X is a normally distributed variable with mean μ = 30 and standard deviation σ = 4. Find \n",
    "\n",
    "a) P(x < 40)\n",
    "\n",
    "b) P(x > 21)\n",
    "\n",
    "c) P(30 < x < 35)\n",
    "\n",
    "You can use scipy.stats.norm functions to answer these questions. These problems are contributed by an anonymous source."
   ]
  },
  {
   "cell_type": "code",
   "execution_count": 137,
   "metadata": {
    "collapsed": true
   },
   "outputs": [
    {
     "name": "stdout",
     "output_type": "stream",
     "text": [
      "P(X < 40) = 0.9938\n",
      "P(X > 21) = 0.9878\n",
      "P(30 < X < 35) = 0.3944\n"
     ]
    }
   ],
   "source": [
    "#Write your code here\n",
    "\n",
    "from scipy.stats import norm\n",
    "\n",
    "mean = 30\n",
    "std = 4\n",
    "\n",
    "\n",
    "probability_a = norm.cdf(40, mean, std)\n",
    "print(f\"P(X < 40) = {probability_a:.4f}\")\n",
    "\n",
    "probability_b = 1 - norm.cdf(21, mean, std)\n",
    "print(f\"P(X > 21) = {probability_b:.4f}\")\n",
    "\n",
    "probability_c = norm.cdf(35, mean, std) - norm.cdf(30, mean, std)\n",
    "print(f\"P(30 < X < 35) = {probability_c:.4f}\")\n"
   ]
  },
  {
   "cell_type": "markdown",
   "metadata": {},
   "source": [
    "#### Task13: \n",
    "The time taken to assemble a car in a certain plant is a random variable having a normal distribution with a mean of 20 hours and a standard deviation of 2 hours. What is the probability that a car can be assembled at this plant in:\n",
    "\n",
    "a) less than 19.5 hours?\n",
    "\n",
    "b) between 20 and 22 hours?"
   ]
  },
  {
   "cell_type": "code",
   "execution_count": 138,
   "metadata": {
    "collapsed": true
   },
   "outputs": [
    {
     "name": "stdout",
     "output_type": "stream",
     "text": [
      "Probability of Part A is 0.4012936743170763\n",
      "Probability of Part B is 0.3413447460685429\n"
     ]
    }
   ],
   "source": [
    "#Write your code here\n",
    "\n",
    "mean = 20\n",
    "std = 2\n",
    "\n",
    "probability_a = norm.cdf(19.5 , 20 , 2)\n",
    "print(f\"Probability of Part A is {probability_a}\")\n",
    "\n",
    "probability_b = norm.cdf(22, mean, std) - norm.cdf(20, mean, std)\n",
    "print(f\"Probability of Part B is {probability_b}\")\n"
   ]
  },
  {
   "cell_type": "markdown",
   "metadata": {},
   "source": [
    "#### Task14:\n",
    "A manufacturer of metal pistons finds that on average, 12% of his pistons are rejected because they are either oversized or undersized. What is the probability that a batch of 10 pistons will contain\n",
    "\n",
    "(a) no more than 2 rejects?\n",
    "\n",
    "(b) at least 2 rejects?"
   ]
  },
  {
   "cell_type": "code",
   "execution_count": 139,
   "metadata": {
    "collapsed": true
   },
   "outputs": [
    {
     "name": "stdout",
     "output_type": "stream",
     "text": [
      "Probability of part A is 0.8913182062780245\n",
      "Probability of part B is 0.3417249657959588\n"
     ]
    }
   ],
   "source": [
    "#Write your code here\n",
    "from scipy.stats import binom\n",
    "n = 10\n",
    "prob_of_rejection = 12/100\n",
    "\n",
    "part_a = binom.cdf(2 , n , prob_of_rejection)\n",
    "print(f\"Probability of part A is {part_a}\")\n",
    "part_b = 1 - binom.cdf(1 , n , prob_of_rejection)\n",
    "print(f\"Probability of part B is {part_b}\")\n"
   ]
  },
  {
   "cell_type": "code",
   "execution_count": null,
   "metadata": {},
   "outputs": [],
   "source": []
  }
 ],
 "metadata": {
  "kernelspec": {
   "display_name": "Python 3",
   "language": "python",
   "name": "python3"
  },
  "language_info": {
   "codemirror_mode": {
    "name": "ipython",
    "version": 3
   },
   "file_extension": ".py",
   "mimetype": "text/x-python",
   "name": "python",
   "nbconvert_exporter": "python",
   "pygments_lexer": "ipython3",
   "version": "3.11.9"
  }
 },
 "nbformat": 4,
 "nbformat_minor": 1
}
